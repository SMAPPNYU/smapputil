{
 "cells": [
  {
   "cell_type": "markdown",
   "metadata": {},
   "source": [
    "# Olympus Metadata"
   ]
  },
  {
   "cell_type": "code",
   "execution_count": 1,
   "metadata": {
    "collapsed": true
   },
   "outputs": [],
   "source": [
    "import os\n",
    "import pandas as pd"
   ]
  },
  {
   "cell_type": "markdown",
   "metadata": {},
   "source": [
    "## What are we working with?"
   ]
  },
  {
   "cell_type": "code",
   "execution_count": 2,
   "metadata": {
    "collapsed": true
   },
   "outputs": [],
   "source": [
    "# where is your data stored? Change this if you're not running this on HPC!\n",
    "data_dir = '/scratch/olympus/filter_metadata/'"
   ]
  },
  {
   "cell_type": "code",
   "execution_count": 3,
   "metadata": {},
   "outputs": [
    {
     "name": "stdout",
     "output_type": "stream",
     "text": [
      "total 2.0M\r\n",
      "drwxrws---+   2 ly501  smapp 4.0K Jan  8 05:01 archive\r\n",
      "-rwxrwx---+   1 ly501  smapp  21K Jan  8 05:01 collection_meta.csv\r\n",
      "-rwxrwx---+   1 ly501  smapp 358K Jan  8 05:01 following_users.csv\r\n",
      "-rwxrwx---+   1 ly501  smapp  64K Jan  8 05:00 tracking_terms.csv\r\n",
      "-rwxrwx---+   1 ly501  smapp 1.5M Jan  8 05:00 user_lookup.json\r\n",
      "drwxrws---+   3 ly501  smapp 4.0K Jan  5 16:12 .\r\n",
      "drwxrws---+ 220 yns207 smapp  16K Jan  3 14:34 ..\r\n"
     ]
    }
   ],
   "source": [
    "!ls -ltha $data_dir"
   ]
  },
  {
   "cell_type": "code",
   "execution_count": 4,
   "metadata": {
    "collapsed": true
   },
   "outputs": [],
   "source": [
    "# let's declare those files above as variables in Python.\n",
    "f_user = os.path.join(data_dir, 'following_users.csv')\n",
    "f_term = os.path.join(data_dir, 'tracking_terms.csv')\n",
    "f_meta = os.path.join(data_dir, 'collection_meta.csv')"
   ]
  },
  {
   "cell_type": "markdown",
   "metadata": {},
   "source": [
    "## Users"
   ]
  },
  {
   "cell_type": "code",
   "execution_count": 5,
   "metadata": {},
   "outputs": [
    {
     "data": {
      "text/html": [
       "<div>\n",
       "<style>\n",
       "    .dataframe thead tr:only-child th {\n",
       "        text-align: right;\n",
       "    }\n",
       "\n",
       "    .dataframe thead th {\n",
       "        text-align: left;\n",
       "    }\n",
       "\n",
       "    .dataframe tbody tr th {\n",
       "        vertical-align: top;\n",
       "    }\n",
       "</style>\n",
       "<table border=\"1\" class=\"dataframe\">\n",
       "  <thead>\n",
       "    <tr style=\"text-align: right;\">\n",
       "      <th></th>\n",
       "      <th>collection</th>\n",
       "      <th>date_added</th>\n",
       "      <th>user.id</th>\n",
       "      <th>user.name</th>\n",
       "    </tr>\n",
       "  </thead>\n",
       "  <tbody>\n",
       "    <tr>\n",
       "      <th>0</th>\n",
       "      <td>britain_broadcast_journalists_2016</td>\n",
       "      <td>2016-10-19</td>\n",
       "      <td>107807497</td>\n",
       "      <td>Sarah Vaughan-Brown</td>\n",
       "    </tr>\n",
       "    <tr>\n",
       "      <th>1</th>\n",
       "      <td>britain_broadcast_journalists_2016</td>\n",
       "      <td>2016-10-19</td>\n",
       "      <td>104483362</td>\n",
       "      <td>Morwenna Grills</td>\n",
       "    </tr>\n",
       "    <tr>\n",
       "      <th>2</th>\n",
       "      <td>britain_broadcast_journalists_2016</td>\n",
       "      <td>2016-10-19</td>\n",
       "      <td>102769529</td>\n",
       "      <td>Elaine Ly</td>\n",
       "    </tr>\n",
       "  </tbody>\n",
       "</table>\n",
       "</div>"
      ],
      "text/plain": [
       "                           collection  date_added    user.id  \\\n",
       "0  britain_broadcast_journalists_2016  2016-10-19  107807497   \n",
       "1  britain_broadcast_journalists_2016  2016-10-19  104483362   \n",
       "2  britain_broadcast_journalists_2016  2016-10-19  102769529   \n",
       "\n",
       "             user.name  \n",
       "0  Sarah Vaughan-Brown  \n",
       "1      Morwenna Grills  \n",
       "2            Elaine Ly  "
      ]
     },
     "execution_count": 5,
     "metadata": {},
     "output_type": "execute_result"
    }
   ],
   "source": [
    "# we'll read the user file into a Pandas dataframe.\n",
    "df_user = pd.read_csv(f_user)\n",
    "df_user.head(3)"
   ]
  },
  {
   "cell_type": "code",
   "execution_count": 6,
   "metadata": {},
   "outputs": [
    {
     "data": {
      "text/plain": [
       "user suspended        373\n",
       "not found             117\n",
       "Marco Rubio             4\n",
       "Rep. Jared Huffman      3\n",
       "Elizabeth Warren        3\n",
       "Новости Украины         3\n",
       "Светлана                3\n",
       "Dina Titus              3\n",
       "Jim McGovern            3\n",
       "Bernie Sanders          3\n",
       "Name: user.name, dtype: int64"
      ]
     },
     "execution_count": 6,
     "metadata": {},
     "output_type": "execute_result"
    }
   ],
   "source": [
    "# we can see ~our~ most followed users,\n",
    "df_user['user.name'].value_counts()[:10]"
   ]
  },
  {
   "cell_type": "markdown",
   "metadata": {},
   "source": [
    "Note: \"user suspended\" and \"not found\" are from a [response code](https://developer.twitter.com/en/docs/basics/response-codes) returned after requesting a username via Tweepy.<br>\n",
    "-> Can that be used for some aspect of your research?\n",
    "\n",
    "### Marcos!\n",
    "\n",
    "<img src=\"http://i0.kym-cdn.com/entries/icons/facebook/000/019/754/marco-rubio-robot-memes-2.jpg\" width=\"300\"></img>"
   ]
  },
  {
   "cell_type": "code",
   "execution_count": 7,
   "metadata": {},
   "outputs": [
    {
     "data": {
      "text/html": [
       "<div>\n",
       "<style>\n",
       "    .dataframe thead tr:only-child th {\n",
       "        text-align: right;\n",
       "    }\n",
       "\n",
       "    .dataframe thead th {\n",
       "        text-align: left;\n",
       "    }\n",
       "\n",
       "    .dataframe tbody tr th {\n",
       "        vertical-align: top;\n",
       "    }\n",
       "</style>\n",
       "<table border=\"1\" class=\"dataframe\">\n",
       "  <thead>\n",
       "    <tr style=\"text-align: right;\">\n",
       "      <th></th>\n",
       "      <th>collection</th>\n",
       "      <th>date_added</th>\n",
       "      <th>user.id</th>\n",
       "      <th>user.name</th>\n",
       "    </tr>\n",
       "  </thead>\n",
       "  <tbody>\n",
       "    <tr>\n",
       "      <th>3356</th>\n",
       "      <td>us_election_marcorubio_2016</td>\n",
       "      <td>2016-10-18</td>\n",
       "      <td>15745368</td>\n",
       "      <td>Marco Rubio</td>\n",
       "    </tr>\n",
       "    <tr>\n",
       "      <th>3369</th>\n",
       "      <td>us_election_others_2016</td>\n",
       "      <td>2016-10-18</td>\n",
       "      <td>15745368</td>\n",
       "      <td>Marco Rubio</td>\n",
       "    </tr>\n",
       "    <tr>\n",
       "      <th>3605</th>\n",
       "      <td>us_legislators_2016</td>\n",
       "      <td>2016-10-18</td>\n",
       "      <td>15745368</td>\n",
       "      <td>Marco Rubio</td>\n",
       "    </tr>\n",
       "    <tr>\n",
       "      <th>4180</th>\n",
       "      <td>us_legislators_2017</td>\n",
       "      <td>2017-02-14</td>\n",
       "      <td>15745368</td>\n",
       "      <td>Marco Rubio</td>\n",
       "    </tr>\n",
       "  </tbody>\n",
       "</table>\n",
       "</div>"
      ],
      "text/plain": [
       "                       collection  date_added   user.id    user.name\n",
       "3356  us_election_marcorubio_2016  2016-10-18  15745368  Marco Rubio\n",
       "3369      us_election_others_2016  2016-10-18  15745368  Marco Rubio\n",
       "3605          us_legislators_2016  2016-10-18  15745368  Marco Rubio\n",
       "4180          us_legislators_2017  2017-02-14  15745368  Marco Rubio"
      ]
     },
     "execution_count": 7,
     "metadata": {},
     "output_type": "execute_result"
    }
   ],
   "source": [
    "# exact match\n",
    "df_user[df_user['user.name'] == 'Marco Rubio']"
   ]
  },
  {
   "cell_type": "code",
   "execution_count": 8,
   "metadata": {
    "collapsed": true
   },
   "outputs": [],
   "source": [
    "# is us_legislators_2016 still running??? should we make a us_legislators_2018 and stop the 2017 collection?\n",
    "# and the marcorubio_2016 collection???"
   ]
  },
  {
   "cell_type": "code",
   "execution_count": 9,
   "metadata": {},
   "outputs": [
    {
     "data": {
      "text/html": [
       "<div>\n",
       "<style>\n",
       "    .dataframe thead tr:only-child th {\n",
       "        text-align: right;\n",
       "    }\n",
       "\n",
       "    .dataframe thead th {\n",
       "        text-align: left;\n",
       "    }\n",
       "\n",
       "    .dataframe tbody tr th {\n",
       "        vertical-align: top;\n",
       "    }\n",
       "</style>\n",
       "<table border=\"1\" class=\"dataframe\">\n",
       "  <thead>\n",
       "    <tr style=\"text-align: right;\">\n",
       "      <th></th>\n",
       "      <th>collection</th>\n",
       "      <th>date_added</th>\n",
       "      <th>user.id</th>\n",
       "      <th>user.name</th>\n",
       "    </tr>\n",
       "  </thead>\n",
       "  <tbody>\n",
       "    <tr>\n",
       "      <th>3356</th>\n",
       "      <td>us_election_marcorubio_2016</td>\n",
       "      <td>2016-10-18</td>\n",
       "      <td>15745368</td>\n",
       "      <td>Marco Rubio</td>\n",
       "    </tr>\n",
       "    <tr>\n",
       "      <th>3369</th>\n",
       "      <td>us_election_others_2016</td>\n",
       "      <td>2016-10-18</td>\n",
       "      <td>15745368</td>\n",
       "      <td>Marco Rubio</td>\n",
       "    </tr>\n",
       "    <tr>\n",
       "      <th>3605</th>\n",
       "      <td>us_legislators_2016</td>\n",
       "      <td>2016-10-18</td>\n",
       "      <td>15745368</td>\n",
       "      <td>Marco Rubio</td>\n",
       "    </tr>\n",
       "    <tr>\n",
       "      <th>4180</th>\n",
       "      <td>us_legislators_2017</td>\n",
       "      <td>2017-02-14</td>\n",
       "      <td>15745368</td>\n",
       "      <td>Marco Rubio</td>\n",
       "    </tr>\n",
       "  </tbody>\n",
       "</table>\n",
       "</div>"
      ],
      "text/plain": [
       "                       collection  date_added   user.id    user.name\n",
       "3356  us_election_marcorubio_2016  2016-10-18  15745368  Marco Rubio\n",
       "3369      us_election_others_2016  2016-10-18  15745368  Marco Rubio\n",
       "3605          us_legislators_2016  2016-10-18  15745368  Marco Rubio\n",
       "4180          us_legislators_2017  2017-02-14  15745368  Marco Rubio"
      ]
     },
     "execution_count": 9,
     "metadata": {},
     "output_type": "execute_result"
    }
   ],
   "source": [
    "# regular expression aka wildcard patter\n",
    "df_user[df_user['user.name'].str.contains('marco rubio', case=False)]"
   ]
  },
  {
   "cell_type": "markdown",
   "metadata": {},
   "source": [
    "## Terms"
   ]
  },
  {
   "cell_type": "code",
   "execution_count": 10,
   "metadata": {},
   "outputs": [
    {
     "data": {
      "text/html": [
       "<div>\n",
       "<style>\n",
       "    .dataframe thead tr:only-child th {\n",
       "        text-align: right;\n",
       "    }\n",
       "\n",
       "    .dataframe thead th {\n",
       "        text-align: left;\n",
       "    }\n",
       "\n",
       "    .dataframe tbody tr th {\n",
       "        vertical-align: top;\n",
       "    }\n",
       "</style>\n",
       "<table border=\"1\" class=\"dataframe\">\n",
       "  <thead>\n",
       "    <tr style=\"text-align: right;\">\n",
       "      <th></th>\n",
       "      <th>collection</th>\n",
       "      <th>date_added</th>\n",
       "      <th>keyword</th>\n",
       "    </tr>\n",
       "  </thead>\n",
       "  <tbody>\n",
       "    <tr>\n",
       "      <th>0</th>\n",
       "      <td>Jerusalem</td>\n",
       "      <td>2017-12-08</td>\n",
       "      <td>palestine</td>\n",
       "    </tr>\n",
       "    <tr>\n",
       "      <th>1</th>\n",
       "      <td>Jerusalem</td>\n",
       "      <td>2017-12-08</td>\n",
       "      <td>فلسطين</td>\n",
       "    </tr>\n",
       "    <tr>\n",
       "      <th>2</th>\n",
       "      <td>Jerusalem</td>\n",
       "      <td>2017-12-08</td>\n",
       "      <td>القدس</td>\n",
       "    </tr>\n",
       "    <tr>\n",
       "      <th>3</th>\n",
       "      <td>Jerusalem</td>\n",
       "      <td>2017-12-08</td>\n",
       "      <td>jerusalem</td>\n",
       "    </tr>\n",
       "    <tr>\n",
       "      <th>4</th>\n",
       "      <td>arab_events_3_2016</td>\n",
       "      <td>2016-10-18</td>\n",
       "      <td>#خليك_نسر</td>\n",
       "    </tr>\n",
       "    <tr>\n",
       "      <th>5</th>\n",
       "      <td>arab_events_3_2016</td>\n",
       "      <td>2016-10-18</td>\n",
       "      <td>سني</td>\n",
       "    </tr>\n",
       "    <tr>\n",
       "      <th>6</th>\n",
       "      <td>arab_events_3_2016</td>\n",
       "      <td>2016-10-18</td>\n",
       "      <td>الشيعة</td>\n",
       "    </tr>\n",
       "    <tr>\n",
       "      <th>7</th>\n",
       "      <td>arab_events_3_2016</td>\n",
       "      <td>2016-10-18</td>\n",
       "      <td>حزبالله</td>\n",
       "    </tr>\n",
       "    <tr>\n",
       "      <th>8</th>\n",
       "      <td>arab_events_3_2016</td>\n",
       "      <td>2016-10-18</td>\n",
       "      <td>الجهاد</td>\n",
       "    </tr>\n",
       "    <tr>\n",
       "      <th>9</th>\n",
       "      <td>arab_events_3_2016</td>\n",
       "      <td>2016-10-18</td>\n",
       "      <td>القاعدة</td>\n",
       "    </tr>\n",
       "  </tbody>\n",
       "</table>\n",
       "</div>"
      ],
      "text/plain": [
       "           collection  date_added    keyword\n",
       "0           Jerusalem  2017-12-08  palestine\n",
       "1           Jerusalem  2017-12-08     فلسطين\n",
       "2           Jerusalem  2017-12-08      القدس\n",
       "3           Jerusalem  2017-12-08  jerusalem\n",
       "4  arab_events_3_2016  2016-10-18  #خليك_نسر\n",
       "5  arab_events_3_2016  2016-10-18        سني\n",
       "6  arab_events_3_2016  2016-10-18     الشيعة\n",
       "7  arab_events_3_2016  2016-10-18    حزبالله\n",
       "8  arab_events_3_2016  2016-10-18     الجهاد\n",
       "9  arab_events_3_2016  2016-10-18    القاعدة"
      ]
     },
     "execution_count": 10,
     "metadata": {},
     "output_type": "execute_result"
    }
   ],
   "source": [
    "df_term = pd.read_csv(f_term)\n",
    "df_term.head(10)\n",
    "\n",
    "# how is this sorted?"
   ]
  },
  {
   "cell_type": "code",
   "execution_count": 11,
   "metadata": {},
   "outputs": [
    {
     "data": {
      "text/plain": [
       "['أقباط', 'الأردن', 'سقوط', 'لاجئ', 'مجزرة']"
      ]
     },
     "execution_count": 11,
     "metadata": {},
     "output_type": "execute_result"
    }
   ],
   "source": [
    "arab_event_terms = df_term[df_term['collection'] == 'arab_events_3_2016']['keyword'].tolist()\n",
    "arab_event_terms[-5:] # last 5 terms"
   ]
  },
  {
   "cell_type": "code",
   "execution_count": 72,
   "metadata": {
    "scrolled": true
   },
   "outputs": [
    {
     "data": {
      "text/plain": [
       "collection            object\n",
       "date_added    datetime64[ns]\n",
       "keyword               object\n",
       "dtype: object"
      ]
     },
     "execution_count": 72,
     "metadata": {},
     "output_type": "execute_result"
    }
   ],
   "source": [
    "df_term.dtypes"
   ]
  },
  {
   "cell_type": "code",
   "execution_count": 60,
   "metadata": {
    "collapsed": true
   },
   "outputs": [],
   "source": [
    "import datetime"
   ]
  },
  {
   "cell_type": "code",
   "execution_count": 71,
   "metadata": {
    "scrolled": true
   },
   "outputs": [],
   "source": [
    "df_term['date_added'] = pd.to_datetime(df_term['date_added'])"
   ]
  },
  {
   "cell_type": "code",
   "execution_count": 73,
   "metadata": {},
   "outputs": [
    {
     "data": {
      "text/plain": [
       "Timestamp('2017-12-08 00:00:00')"
      ]
     },
     "execution_count": 73,
     "metadata": {},
     "output_type": "execute_result"
    }
   ],
   "source": [
    "df_term['date_added'][0]"
   ]
  },
  {
   "cell_type": "code",
   "execution_count": 69,
   "metadata": {},
   "outputs": [
    {
     "data": {
      "text/html": [
       "<div>\n",
       "<style>\n",
       "    .dataframe thead tr:only-child th {\n",
       "        text-align: right;\n",
       "    }\n",
       "\n",
       "    .dataframe thead th {\n",
       "        text-align: left;\n",
       "    }\n",
       "\n",
       "    .dataframe tbody tr th {\n",
       "        vertical-align: top;\n",
       "    }\n",
       "</style>\n",
       "<table border=\"1\" class=\"dataframe\">\n",
       "  <thead>\n",
       "    <tr style=\"text-align: right;\">\n",
       "      <th></th>\n",
       "      <th>collection</th>\n",
       "      <th>date_added</th>\n",
       "      <th>keyword</th>\n",
       "    </tr>\n",
       "  </thead>\n",
       "  <tbody>\n",
       "  </tbody>\n",
       "</table>\n",
       "</div>"
      ],
      "text/plain": [
       "Empty DataFrame\n",
       "Columns: [collection, date_added, keyword]\n",
       "Index: []"
      ]
     },
     "execution_count": 69,
     "metadata": {},
     "output_type": "execute_result"
    }
   ],
   "source": [
    "df_term[df_term['date_added'] < datetime.datetime(2016, 6, 6)]"
   ]
  },
  {
   "cell_type": "markdown",
   "metadata": {},
   "source": [
    "# Looking at The Size of Collections"
   ]
  },
  {
   "cell_type": "code",
   "execution_count": 12,
   "metadata": {},
   "outputs": [
    {
     "data": {
      "text/html": [
       "<div>\n",
       "<style>\n",
       "    .dataframe thead tr:only-child th {\n",
       "        text-align: right;\n",
       "    }\n",
       "\n",
       "    .dataframe thead th {\n",
       "        text-align: left;\n",
       "    }\n",
       "\n",
       "    .dataframe tbody tr th {\n",
       "        vertical-align: top;\n",
       "    }\n",
       "</style>\n",
       "<table border=\"1\" class=\"dataframe\">\n",
       "  <thead>\n",
       "    <tr style=\"text-align: right;\">\n",
       "      <th></th>\n",
       "      <th>collection</th>\n",
       "      <th>collection_number_of_files</th>\n",
       "      <th>collection_size</th>\n",
       "      <th>collection_size_bytes</th>\n",
       "      <th>latest_filedate</th>\n",
       "      <th>latest_filename</th>\n",
       "      <th>latest_filesize</th>\n",
       "    </tr>\n",
       "  </thead>\n",
       "  <tbody>\n",
       "    <tr>\n",
       "      <th>0</th>\n",
       "      <td>us_politics_pro_trump</td>\n",
       "      <td>342</td>\n",
       "      <td>50.18 GB</td>\n",
       "      <td>53875396596</td>\n",
       "      <td>2018-01-08 04:01:01</td>\n",
       "      <td>/scratch/olympus/us_politics_pro_trump/data/us...</td>\n",
       "      <td>182.58 MB</td>\n",
       "    </tr>\n",
       "    <tr>\n",
       "      <th>1</th>\n",
       "      <td>us_election_marcorubio_2016</td>\n",
       "      <td>452</td>\n",
       "      <td>17.48 GB</td>\n",
       "      <td>18766707310</td>\n",
       "      <td>2018-01-08 04:01:01</td>\n",
       "      <td>/scratch/olympus/us_election_marcorubio_2016/d...</td>\n",
       "      <td>6.12 MB</td>\n",
       "    </tr>\n",
       "    <tr>\n",
       "      <th>2</th>\n",
       "      <td>turkey_referendum_2017</td>\n",
       "      <td>348</td>\n",
       "      <td>2.88 GB</td>\n",
       "      <td>3095740629</td>\n",
       "      <td>2018-01-08 04:01:01</td>\n",
       "      <td>/scratch/olympus/turkey_referendum_2017/data/t...</td>\n",
       "      <td>19.42 KB</td>\n",
       "    </tr>\n",
       "  </tbody>\n",
       "</table>\n",
       "</div>"
      ],
      "text/plain": [
       "                    collection  collection_number_of_files collection_size  \\\n",
       "0        us_politics_pro_trump                         342        50.18 GB   \n",
       "1  us_election_marcorubio_2016                         452        17.48 GB   \n",
       "2       turkey_referendum_2017                         348         2.88 GB   \n",
       "\n",
       "   collection_size_bytes      latest_filedate  \\\n",
       "0            53875396596  2018-01-08 04:01:01   \n",
       "1            18766707310  2018-01-08 04:01:01   \n",
       "2             3095740629  2018-01-08 04:01:01   \n",
       "\n",
       "                                     latest_filename latest_filesize  \n",
       "0  /scratch/olympus/us_politics_pro_trump/data/us...       182.58 MB  \n",
       "1  /scratch/olympus/us_election_marcorubio_2016/d...         6.12 MB  \n",
       "2  /scratch/olympus/turkey_referendum_2017/data/t...        19.42 KB  "
      ]
     },
     "execution_count": 12,
     "metadata": {},
     "output_type": "execute_result"
    }
   ],
   "source": [
    "df_meta = pd.read_csv(f_meta)\n",
    "df_meta.head(3)"
   ]
  },
  {
   "cell_type": "code",
   "execution_count": 13,
   "metadata": {
    "collapsed": true
   },
   "outputs": [],
   "source": [
    "import math\n",
    "\n",
    "def convert_size(size_bytes):\n",
    "    '''\n",
    "    Bytes to a human-readable format.\n",
    "    '''\n",
    "    if size_bytes == 0:\n",
    "        return \"0B\"\n",
    "    size_name = (\"B\", \"KB\", \"MB\", \"GB\", \"TB\", \"PB\", \"EB\", \"ZB\", \"YB\")\n",
    "    i = int(math.floor(math.log(size_bytes, 1024)))\n",
    "    p = math.pow(1024, i)\n",
    "    s = round(size_bytes / p, 2)\n",
    "\n",
    "    return \"%s %s\" % (s, size_name[i])"
   ]
  },
  {
   "cell_type": "code",
   "execution_count": 14,
   "metadata": {},
   "outputs": [
    {
     "data": {
      "text/plain": [
       "4334735510197"
      ]
     },
     "execution_count": 14,
     "metadata": {},
     "output_type": "execute_result"
    }
   ],
   "source": [
    "olympus_btyes = df_meta['collection_size_bytes'].sum()\n",
    "olympus_btyes"
   ]
  },
  {
   "cell_type": "code",
   "execution_count": 15,
   "metadata": {},
   "outputs": [
    {
     "data": {
      "text/plain": [
       "'3.94 TB'"
      ]
     },
     "execution_count": 15,
     "metadata": {},
     "output_type": "execute_result"
    }
   ],
   "source": [
    "convert_size(olympus_btyes)"
   ]
  },
  {
   "cell_type": "code",
   "execution_count": 16,
   "metadata": {},
   "outputs": [
    {
     "data": {
      "text/plain": [
       "116"
      ]
     },
     "execution_count": 16,
     "metadata": {},
     "output_type": "execute_result"
    }
   ],
   "source": [
    "len(df_meta['collection'].unique())"
   ]
  },
  {
   "cell_type": "code",
   "execution_count": 36,
   "metadata": {},
   "outputs": [
    {
     "data": {
      "text/plain": [
       "13509920546"
      ]
     },
     "execution_count": 36,
     "metadata": {},
     "output_type": "execute_result"
    }
   ],
   "source": [
    "# how big is the largest collection?\n",
    "largest_collection_size = df_meta['collection_size_bytes'][16]\n",
    "largest_collection_size"
   ]
  },
  {
   "cell_type": "code",
   "execution_count": 37,
   "metadata": {},
   "outputs": [
    {
     "data": {
      "text/html": [
       "<div>\n",
       "<style>\n",
       "    .dataframe thead tr:only-child th {\n",
       "        text-align: right;\n",
       "    }\n",
       "\n",
       "    .dataframe thead th {\n",
       "        text-align: left;\n",
       "    }\n",
       "\n",
       "    .dataframe tbody tr th {\n",
       "        vertical-align: top;\n",
       "    }\n",
       "</style>\n",
       "<table border=\"1\" class=\"dataframe\">\n",
       "  <thead>\n",
       "    <tr style=\"text-align: right;\">\n",
       "      <th></th>\n",
       "      <th>collection</th>\n",
       "      <th>collection_number_of_files</th>\n",
       "      <th>collection_size</th>\n",
       "      <th>collection_size_bytes</th>\n",
       "      <th>latest_filedate</th>\n",
       "      <th>latest_filename</th>\n",
       "      <th>latest_filesize</th>\n",
       "    </tr>\n",
       "  </thead>\n",
       "  <tbody>\n",
       "    <tr>\n",
       "      <th>16</th>\n",
       "      <td>us_politics_oppose_ban</td>\n",
       "      <td>342</td>\n",
       "      <td>12.58 GB</td>\n",
       "      <td>13509920546</td>\n",
       "      <td>2018-01-08 04:30:31</td>\n",
       "      <td>/scratch/olympus/us_politics_oppose_ban/data/u...</td>\n",
       "      <td>27.77 MB</td>\n",
       "    </tr>\n",
       "  </tbody>\n",
       "</table>\n",
       "</div>"
      ],
      "text/plain": [
       "                collection  collection_number_of_files collection_size  \\\n",
       "16  us_politics_oppose_ban                         342        12.58 GB   \n",
       "\n",
       "    collection_size_bytes      latest_filedate  \\\n",
       "16            13509920546  2018-01-08 04:30:31   \n",
       "\n",
       "                                      latest_filename latest_filesize  \n",
       "16  /scratch/olympus/us_politics_oppose_ban/data/u...        27.77 MB  "
      ]
     },
     "execution_count": 37,
     "metadata": {},
     "output_type": "execute_result"
    }
   ],
   "source": [
    "# how do we find the largest collection?\n",
    "largest_collection = df_meta[df_meta['collection_size_bytes'] == largest_collection_size]\n",
    "largest_collection"
   ]
  },
  {
   "cell_type": "code",
   "execution_count": 38,
   "metadata": {},
   "outputs": [
    {
     "data": {
      "text/plain": [
       "'2018-01-08 04:30:31'"
      ]
     },
     "execution_count": 38,
     "metadata": {},
     "output_type": "execute_result"
    }
   ],
   "source": [
    "# how to get the latest_filedate?\n",
    "largest_collection['latest_filedate'].iloc[0]"
   ]
  },
  {
   "cell_type": "code",
   "execution_count": 39,
   "metadata": {},
   "outputs": [
    {
     "data": {
      "text/plain": [
       "'/scratch/olympus/us_politics_oppose_ban/data/us_politics_oppose_ban_data__01_07_2018__00_00_00__23_59_59.json.bz2'"
      ]
     },
     "execution_count": 39,
     "metadata": {},
     "output_type": "execute_result"
    }
   ],
   "source": [
    "largest_collection_file = largest_collection['latest_filename'].iloc[0]\n",
    "largest_collection_file"
   ]
  },
  {
   "cell_type": "markdown",
   "metadata": {},
   "source": [
    "## Let's Look at this File"
   ]
  },
  {
   "cell_type": "code",
   "execution_count": 40,
   "metadata": {
    "scrolled": true
   },
   "outputs": [
    {
     "name": "stdout",
     "output_type": "stream",
     "text": [
      "Requirement already up-to-date: smappdragon in /home/nhb228/anaconda3/lib/python3.6/site-packages\n",
      "Requirement already up-to-date: pymongo>=3.2.1 in /home/nhb228/anaconda3/lib/python3.6/site-packages (from smappdragon)\n"
     ]
    }
   ],
   "source": [
    "!pip install smappdragon --upgrade"
   ]
  },
  {
   "cell_type": "code",
   "execution_count": 41,
   "metadata": {
    "collapsed": true
   },
   "outputs": [],
   "source": [
    "import json\n",
    "from smappdragon import JsonCollection"
   ]
  },
  {
   "cell_type": "code",
   "execution_count": 42,
   "metadata": {
    "collapsed": true
   },
   "outputs": [],
   "source": [
    "?JsonCollection()"
   ]
  },
  {
   "cell_type": "code",
   "execution_count": 43,
   "metadata": {},
   "outputs": [],
   "source": [
    "collect = JsonCollection(largest_collection_file, compression='bz2', throw_error=0, verbose=1)"
   ]
  },
  {
   "cell_type": "code",
   "execution_count": 44,
   "metadata": {
    "scrolled": true
   },
   "outputs": [
    {
     "name": "stdout",
     "output_type": "stream",
     "text": [
      "48184 rows are ok.\n",
      "0 rows are corrupt.\n"
     ]
    },
    {
     "data": {
      "text/plain": [
       "48185"
      ]
     },
     "execution_count": 44,
     "metadata": {},
     "output_type": "execute_result"
    }
   ],
   "source": [
    "sum(1 for _ in collect.get_iterator())"
   ]
  },
  {
   "cell_type": "code",
   "execution_count": null,
   "metadata": {
    "collapsed": true
   },
   "outputs": [],
   "source": [
    "# put in explanation of this particular for loop ^\n",
    "# explanation of what collection.get_iterator() returns\n",
    "# explain _ (anonymous returned variable) and what 1 does\n",
    "# maybe also what sum does"
   ]
  },
  {
   "cell_type": "code",
   "execution_count": 47,
   "metadata": {},
   "outputs": [
    {
     "ename": "TypeError",
     "evalue": "'generator' object is not subscriptable",
     "output_type": "error",
     "traceback": [
      "\u001b[0;31m---------------------------------------------------------------------------\u001b[0m",
      "\u001b[0;31mTypeError\u001b[0m                                 Traceback (most recent call last)",
      "\u001b[0;32m<ipython-input-47-f0cf2498e85f>\u001b[0m in \u001b[0;36m<module>\u001b[0;34m()\u001b[0m\n\u001b[0;32m----> 1\u001b[0;31m \u001b[0mcollect\u001b[0m\u001b[0;34m.\u001b[0m\u001b[0mget_iterator\u001b[0m\u001b[0;34m(\u001b[0m\u001b[0;34m)\u001b[0m\u001b[0;34m[\u001b[0m\u001b[0;36m0\u001b[0m\u001b[0;34m]\u001b[0m\u001b[0;34m\u001b[0m\u001b[0m\n\u001b[0m",
      "\u001b[0;31mTypeError\u001b[0m: 'generator' object is not subscriptable"
     ]
    }
   ],
   "source": []
  },
  {
   "cell_type": "code",
   "execution_count": 50,
   "metadata": {},
   "outputs": [
    {
     "name": "stdout",
     "output_type": "stream",
     "text": [
      "{\n",
      "    \"created_at\": \"Sun Jan 07 05:01:08 +0000 2018\",\n",
      "    \"place\": null,\n",
      "    \"lang\": \"en\",\n",
      "    \"source\": \"<a href=\\\"http://twitter.com/download/iphone\\\" rel=\\\"nofollow\\\">Twitter for iPhone</a>\",\n",
      "    \"entities\": {\n",
      "        \"urls\": [\n",
      "            {\n",
      "                \"expanded_url\": \"http://hill.cm/ZA1kTJb\",\n",
      "                \"display_url\": \"hill.cm/ZA1kTJb\",\n",
      "                \"url\": \"https://t.co/DC6ppgCWG3\",\n",
      "                \"indices\": [\n",
      "                    115,\n",
      "                    138\n",
      "                ]\n",
      "            }\n",
      "        ],\n",
      "        \"hashtags\": [\n",
      "            {\n",
      "                \"text\": \"TheResistance\",\n",
      "                \"indices\": [\n",
      "                    100,\n",
      "                    114\n",
      "                ]\n",
      "            }\n",
      "        ],\n",
      "        \"user_mentions\": [\n",
      "            {\n",
      "                \"id\": 14247236,\n",
      "                \"id_str\": \"14247236\",\n",
      "                \"name\": \"Scott Dworkin\",\n",
      "                \"indices\": [\n",
      "                    3,\n",
      "                    10\n",
      "                ],\n",
      "                \"screen_name\": \"funder\"\n",
      "            }\n",
      "        ],\n",
      "        \"symbols\": []\n",
      "    },\n",
      "    \"retweet_count\": 0,\n",
      "    \"contributors\": null,\n",
      "    \"text\": \"RT @funder: GoFundMe for Moore accuser whose home burned in suspicious fire raises $100k in one day #TheResistance https://t.co/DC6ppgCWG3\",\n",
      "    \"favorite_count\": 0,\n",
      "    \"in_reply_to_screen_name\": null,\n",
      "    \"possibly_sensitive\": false,\n",
      "    \"in_reply_to_user_id_str\": null,\n",
      "    \"coordinates\": null,\n",
      "    \"reply_count\": 0,\n",
      "    \"smapp_timestamp\": \"Sun Jan 07 00:01:08 +0000 2018\",\n",
      "    \"retweeted_status\": {\n",
      "        \"created_at\": \"Sun Jan 07 01:39:59 +0000 2018\",\n",
      "        \"place\": null,\n",
      "        \"lang\": \"en\",\n",
      "        \"source\": \"<a href=\\\"http://twitter.com/download/iphone\\\" rel=\\\"nofollow\\\">Twitter for iPhone</a>\",\n",
      "        \"entities\": {\n",
      "            \"urls\": [\n",
      "                {\n",
      "                    \"expanded_url\": \"http://hill.cm/ZA1kTJb\",\n",
      "                    \"display_url\": \"hill.cm/ZA1kTJb\",\n",
      "                    \"url\": \"https://t.co/DC6ppgCWG3\",\n",
      "                    \"indices\": [\n",
      "                        103,\n",
      "                        126\n",
      "                    ]\n",
      "                }\n",
      "            ],\n",
      "            \"hashtags\": [\n",
      "                {\n",
      "                    \"text\": \"TheResistance\",\n",
      "                    \"indices\": [\n",
      "                        88,\n",
      "                        102\n",
      "                    ]\n",
      "                }\n",
      "            ],\n",
      "            \"user_mentions\": [],\n",
      "            \"symbols\": []\n",
      "        },\n",
      "        \"retweet_count\": 289,\n",
      "        \"contributors\": null,\n",
      "        \"text\": \"GoFundMe for Moore accuser whose home burned in suspicious fire raises $100k in one day #TheResistance https://t.co/DC6ppgCWG3\",\n",
      "        \"favorite_count\": 534,\n",
      "        \"in_reply_to_screen_name\": null,\n",
      "        \"possibly_sensitive\": false,\n",
      "        \"in_reply_to_user_id_str\": null,\n",
      "        \"coordinates\": null,\n",
      "        \"reply_count\": 15,\n",
      "        \"retweeted\": false,\n",
      "        \"in_reply_to_user_id\": null,\n",
      "        \"is_quote_status\": false,\n",
      "        \"truncated\": false,\n",
      "        \"in_reply_to_status_id_str\": null,\n",
      "        \"quote_count\": 5,\n",
      "        \"geo\": null,\n",
      "        \"id\": 949817860469256192,\n",
      "        \"id_str\": \"949817860469256192\",\n",
      "        \"favorited\": false,\n",
      "        \"in_reply_to_status_id\": null,\n",
      "        \"user\": {\n",
      "            \"followers_count\": 281109,\n",
      "            \"translator_type\": \"none\",\n",
      "            \"created_at\": \"Fri Mar 28 21:38:52 +0000 2008\",\n",
      "            \"default_profile_image\": false,\n",
      "            \"lang\": \"en\",\n",
      "            \"following\": null,\n",
      "            \"profile_image_url\": \"http://pbs.twimg.com/profile_images/843990001532764160/yjMRQs74_normal.jpg\",\n",
      "            \"statuses_count\": 143252,\n",
      "            \"geo_enabled\": true,\n",
      "            \"screen_name\": \"funder\",\n",
      "            \"profile_text_color\": \"333333\",\n",
      "            \"profile_use_background_image\": true,\n",
      "            \"utc_offset\": -18000,\n",
      "            \"protected\": false,\n",
      "            \"friends_count\": 39408,\n",
      "            \"profile_background_image_url_https\": \"https://abs.twimg.com/images/themes/theme1/bg.png\",\n",
      "            \"follow_request_sent\": null,\n",
      "            \"profile_sidebar_border_color\": \"C0DEED\",\n",
      "            \"profile_background_color\": \"C0DEED\",\n",
      "            \"name\": \"Scott Dworkin\",\n",
      "            \"notifications\": null,\n",
      "            \"is_translator\": false,\n",
      "            \"profile_background_tile\": false,\n",
      "            \"time_zone\": \"Eastern Time (US & Canada)\",\n",
      "            \"verified\": true,\n",
      "            \"profile_sidebar_fill_color\": \"DDEEF6\",\n",
      "            \"profile_background_image_url\": \"http://abs.twimg.com/images/themes/theme1/bg.png\",\n",
      "            \"default_profile\": true,\n",
      "            \"location\": null,\n",
      "            \"description\": \"Co-Founder @TheDemCoalition. #AMJoy on MSNBC Contributor. I help lead #TheResistance. Obama Alum. Dem Strategist. I helped uncover the #TrumpRussia scandal.\",\n",
      "            \"id\": 14247236,\n",
      "            \"profile_link_color\": \"1DA1F2\",\n",
      "            \"id_str\": \"14247236\",\n",
      "            \"profile_image_url_https\": \"https://pbs.twimg.com/profile_images/843990001532764160/yjMRQs74_normal.jpg\",\n",
      "            \"profile_banner_url\": \"https://pbs.twimg.com/profile_banners/14247236/1490057930\",\n",
      "            \"listed_count\": 3242,\n",
      "            \"url\": \"http://democraticcoalition.org\",\n",
      "            \"favourites_count\": 67530,\n",
      "            \"contributors_enabled\": false\n",
      "        },\n",
      "        \"filter_level\": \"low\"\n",
      "    },\n",
      "    \"retweeted\": false,\n",
      "    \"in_reply_to_user_id\": null,\n",
      "    \"timestamp_ms\": \"1515301268180\",\n",
      "    \"is_quote_status\": false,\n",
      "    \"truncated\": false,\n",
      "    \"in_reply_to_status_id_str\": null,\n",
      "    \"quote_count\": 0,\n",
      "    \"geo\": null,\n",
      "    \"id\": 949868480790237184,\n",
      "    \"id_str\": \"949868480790237184\",\n",
      "    \"favorited\": false,\n",
      "    \"in_reply_to_status_id\": null,\n",
      "    \"user\": {\n",
      "        \"followers_count\": 35,\n",
      "        \"translator_type\": \"none\",\n",
      "        \"created_at\": \"Mon Dec 05 14:16:14 +0000 2016\",\n",
      "        \"default_profile_image\": false,\n",
      "        \"lang\": \"en\",\n",
      "        \"following\": null,\n",
      "        \"profile_image_url\": \"http://pbs.twimg.com/profile_images/927587789830590467/3iGfRd3w_normal.jpg\",\n",
      "        \"statuses_count\": 12000,\n",
      "        \"geo_enabled\": true,\n",
      "        \"screen_name\": \"Chrissybug53\",\n",
      "        \"profile_text_color\": \"333333\",\n",
      "        \"profile_use_background_image\": true,\n",
      "        \"utc_offset\": null,\n",
      "        \"protected\": false,\n",
      "        \"friends_count\": 35,\n",
      "        \"profile_background_image_url_https\": \"\",\n",
      "        \"follow_request_sent\": null,\n",
      "        \"profile_sidebar_border_color\": \"C0DEED\",\n",
      "        \"profile_background_color\": \"F5F8FA\",\n",
      "        \"name\": \"Christine Shaffer\",\n",
      "        \"notifications\": null,\n",
      "        \"is_translator\": false,\n",
      "        \"profile_background_tile\": false,\n",
      "        \"time_zone\": null,\n",
      "        \"verified\": false,\n",
      "        \"profile_sidebar_fill_color\": \"DDEEF6\",\n",
      "        \"profile_background_image_url\": \"\",\n",
      "        \"default_profile\": true,\n",
      "        \"location\": \"Chicago, IL\",\n",
      "        \"description\": \"Retired Registered Nurse, Retired Funeral Director/Embalmer, Married 36 yrs- 7/26/81. Hubby is a musician- drummer.\",\n",
      "        \"id\": 805777805183221760,\n",
      "        \"profile_link_color\": \"1DA1F2\",\n",
      "        \"id_str\": \"805777805183221760\",\n",
      "        \"profile_image_url_https\": \"https://pbs.twimg.com/profile_images/927587789830590467/3iGfRd3w_normal.jpg\",\n",
      "        \"profile_banner_url\": \"https://pbs.twimg.com/profile_banners/805777805183221760/1509989140\",\n",
      "        \"listed_count\": 0,\n",
      "        \"url\": null,\n",
      "        \"favourites_count\": 4215,\n",
      "        \"contributors_enabled\": false\n",
      "    },\n",
      "    \"filter_level\": \"low\"\n",
      "}\n"
     ]
    }
   ],
   "source": [
    "for tweet in collect.get_iterator():\n",
    "    print(json.dumps(tweet, indent=4))\n",
    "    break"
   ]
  },
  {
   "cell_type": "code",
   "execution_count": 51,
   "metadata": {
    "collapsed": true
   },
   "outputs": [],
   "source": [
    "def is_getlocated(tweet):\n",
    "    if isinstance(tweet, dict) and tweet['coordinates']:\n",
    "        return True\n",
    "    return False"
   ]
  },
  {
   "cell_type": "code",
   "execution_count": 52,
   "metadata": {},
   "outputs": [],
   "source": [
    "geo_collect = collect.set_custom_filter(is_getlocated)"
   ]
  },
  {
   "cell_type": "code",
   "execution_count": null,
   "metadata": {
    "collapsed": true
   },
   "outputs": [],
   "source": []
  }
 ],
 "metadata": {
  "kernelspec": {
   "display_name": "Python 3",
   "language": "python",
   "name": "python3"
  },
  "language_info": {
   "codemirror_mode": {
    "name": "ipython",
    "version": 3
   },
   "file_extension": ".py",
   "mimetype": "text/x-python",
   "name": "python",
   "nbconvert_exporter": "python",
   "pygments_lexer": "ipython3",
   "version": "3.6.2"
  }
 },
 "nbformat": 4,
 "nbformat_minor": 2
}
