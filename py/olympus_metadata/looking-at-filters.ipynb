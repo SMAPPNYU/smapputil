{
 "cells": [
  {
   "cell_type": "markdown",
   "metadata": {},
   "source": [
    "# Olympus Metadata"
   ]
  },
  {
   "cell_type": "code",
   "execution_count": 1,
   "metadata": {
    "collapsed": true
   },
   "outputs": [],
   "source": [
    "import os\n",
    "import pandas as pd"
   ]
  },
  {
   "cell_type": "markdown",
   "metadata": {},
   "source": [
    "## What are we working with?"
   ]
  },
  {
   "cell_type": "code",
   "execution_count": 2,
   "metadata": {
    "collapsed": true
   },
   "outputs": [],
   "source": [
    "# where is your data stored? Change this if you're not running this on HPC!\n",
    "data_dir = '/scratch/olympus/filter_metadata/'"
   ]
  },
  {
   "cell_type": "code",
   "execution_count": 3,
   "metadata": {
    "collapsed": false
   },
   "outputs": [
    {
     "name": "stdout",
     "output_type": "stream",
     "text": [
      "total 2.4M\r\n",
      "drwxrwsr-x    2 ly501  smapp 4.0K Jan  5 16:26 archive\r\n",
      "-rw-rwxr--+   1 ly501  smapp  21K Jan  5 16:26 collection_meta.csv\r\n",
      "-rwxrwx---+   1 ly501  smapp 755K Jan  5 16:26 following_users.csv\r\n",
      "-rwxrwx---+   1 ly501  smapp  64K Jan  5 16:26 tracking_terms.csv\r\n",
      "-rwxrwx---+   1 ly501  smapp 1.5M Jan  5 16:26 user_lookup.json\r\n",
      "drwxrws---+   3 ly501  smapp 4.0K Jan  5 16:12 .\r\n",
      "drwxrws---+ 220 yns207 smapp  16K Jan  3 14:34 ..\r\n"
     ]
    }
   ],
   "source": [
    "!ls -ltha $data_dir"
   ]
  },
  {
   "cell_type": "code",
   "execution_count": 4,
   "metadata": {
    "collapsed": true
   },
   "outputs": [],
   "source": [
    "# let's declare those files above as variables in Python.\n",
    "f_user = os.path.join(data_dir, 'following_users.csv')\n",
    "f_term = os.path.join(data_dir, 'tracking_terms.csv')\n",
    "f_meta = os.path.join(data_dir, 'collection_meta.csv')"
   ]
  },
  {
   "cell_type": "markdown",
   "metadata": {},
   "source": [
    "## Users"
   ]
  },
  {
   "cell_type": "code",
   "execution_count": 15,
   "metadata": {
    "collapsed": false
   },
   "outputs": [
    {
     "data": {
      "text/html": [
       "<div>\n",
       "<style scoped>\n",
       "    .dataframe tbody tr th:only-of-type {\n",
       "        vertical-align: middle;\n",
       "    }\n",
       "\n",
       "    .dataframe tbody tr th {\n",
       "        vertical-align: top;\n",
       "    }\n",
       "\n",
       "    .dataframe thead th {\n",
       "        text-align: right;\n",
       "    }\n",
       "</style>\n",
       "<table border=\"1\" class=\"dataframe\">\n",
       "  <thead>\n",
       "    <tr style=\"text-align: right;\">\n",
       "      <th></th>\n",
       "      <th>collection</th>\n",
       "      <th>date_added</th>\n",
       "      <th>user.id</th>\n",
       "      <th>user.name</th>\n",
       "    </tr>\n",
       "  </thead>\n",
       "  <tbody>\n",
       "    <tr>\n",
       "      <th>0</th>\n",
       "      <td>britain_broadcast_journalists_2016</td>\n",
       "      <td>2016-10-19</td>\n",
       "      <td>107807497</td>\n",
       "      <td>Sarah Vaughan-Brown</td>\n",
       "    </tr>\n",
       "    <tr>\n",
       "      <th>1</th>\n",
       "      <td>britain_broadcast_journalists_2016</td>\n",
       "      <td>2016-10-19</td>\n",
       "      <td>104483362</td>\n",
       "      <td>Morwenna Grills</td>\n",
       "    </tr>\n",
       "    <tr>\n",
       "      <th>2</th>\n",
       "      <td>britain_broadcast_journalists_2016</td>\n",
       "      <td>2016-10-19</td>\n",
       "      <td>102769529</td>\n",
       "      <td>Elaine Ly</td>\n",
       "    </tr>\n",
       "  </tbody>\n",
       "</table>\n",
       "</div>"
      ],
      "text/plain": [
       "                           collection  date_added    user.id  \\\n",
       "0  britain_broadcast_journalists_2016  2016-10-19  107807497   \n",
       "1  britain_broadcast_journalists_2016  2016-10-19  104483362   \n",
       "2  britain_broadcast_journalists_2016  2016-10-19  102769529   \n",
       "\n",
       "             user.name  \n",
       "0  Sarah Vaughan-Brown  \n",
       "1      Morwenna Grills  \n",
       "2            Elaine Ly  "
      ]
     },
     "execution_count": 15,
     "metadata": {},
     "output_type": "execute_result"
    }
   ],
   "source": [
    "# we'll read the user file into a Pandas dataframe.\n",
    "df_user = pd.read_csv(f_user)\n",
    "df_user.head(3)"
   ]
  },
  {
   "cell_type": "code",
   "execution_count": 16,
   "metadata": {
    "collapsed": false
   },
   "outputs": [
    {
     "data": {
      "text/plain": [
       "user suspended        373\n",
       "not found             117\n",
       "Marco Rubio             4\n",
       "Rep. Jared Huffman      3\n",
       "Jim McGovern            3\n",
       "Dana Rohrabacher        3\n",
       "Новости Украины         3\n",
       "Bernie Sanders          3\n",
       "Dina Titus              3\n",
       "Elizabeth Warren        3\n",
       "Name: user.name, dtype: int64"
      ]
     },
     "execution_count": 16,
     "metadata": {},
     "output_type": "execute_result"
    }
   ],
   "source": [
    "# we can see ~our~ most followed users,\n",
    "df_user['user.name'].value_counts()[:10]"
   ]
  },
  {
   "cell_type": "markdown",
   "metadata": {},
   "source": [
    "Note: \"user suspended\" and \"not found\" are from a [response code](https://developer.twitter.com/en/docs/basics/response-codes) returned after requesting a username via Tweepy.<br>\n",
    "-> Can that be used for some aspect of your research?\n",
    "\n",
    "### Marcos!\n",
    "\n",
    "<img src=\"http://i0.kym-cdn.com/entries/icons/facebook/000/019/754/marco-rubio-robot-memes-2.jpg\" width=\"300\"></img>"
   ]
  },
  {
   "cell_type": "code",
   "execution_count": 17,
   "metadata": {
    "collapsed": false
   },
   "outputs": [
    {
     "data": {
      "text/html": [
       "<div>\n",
       "<style scoped>\n",
       "    .dataframe tbody tr th:only-of-type {\n",
       "        vertical-align: middle;\n",
       "    }\n",
       "\n",
       "    .dataframe tbody tr th {\n",
       "        vertical-align: top;\n",
       "    }\n",
       "\n",
       "    .dataframe thead th {\n",
       "        text-align: right;\n",
       "    }\n",
       "</style>\n",
       "<table border=\"1\" class=\"dataframe\">\n",
       "  <thead>\n",
       "    <tr style=\"text-align: right;\">\n",
       "      <th></th>\n",
       "      <th>collection</th>\n",
       "      <th>date_added</th>\n",
       "      <th>user.id</th>\n",
       "      <th>user.name</th>\n",
       "    </tr>\n",
       "  </thead>\n",
       "  <tbody>\n",
       "    <tr>\n",
       "      <th>3356</th>\n",
       "      <td>us_election_marcorubio_2016</td>\n",
       "      <td>2016-10-18</td>\n",
       "      <td>15745368</td>\n",
       "      <td>Marco Rubio</td>\n",
       "    </tr>\n",
       "    <tr>\n",
       "      <th>3369</th>\n",
       "      <td>us_election_others_2016</td>\n",
       "      <td>2016-10-18</td>\n",
       "      <td>15745368</td>\n",
       "      <td>Marco Rubio</td>\n",
       "    </tr>\n",
       "    <tr>\n",
       "      <th>3605</th>\n",
       "      <td>us_legislators_2016</td>\n",
       "      <td>2016-10-18</td>\n",
       "      <td>15745368</td>\n",
       "      <td>Marco Rubio</td>\n",
       "    </tr>\n",
       "    <tr>\n",
       "      <th>4180</th>\n",
       "      <td>us_legislators_2017</td>\n",
       "      <td>2017-02-14</td>\n",
       "      <td>15745368</td>\n",
       "      <td>Marco Rubio</td>\n",
       "    </tr>\n",
       "  </tbody>\n",
       "</table>\n",
       "</div>"
      ],
      "text/plain": [
       "                       collection  date_added   user.id    user.name\n",
       "3356  us_election_marcorubio_2016  2016-10-18  15745368  Marco Rubio\n",
       "3369      us_election_others_2016  2016-10-18  15745368  Marco Rubio\n",
       "3605          us_legislators_2016  2016-10-18  15745368  Marco Rubio\n",
       "4180          us_legislators_2017  2017-02-14  15745368  Marco Rubio"
      ]
     },
     "execution_count": 17,
     "metadata": {},
     "output_type": "execute_result"
    }
   ],
   "source": [
    "# exact match\n",
    "df_user[df_user['user.name'] == 'Marco Rubio']"
   ]
  },
  {
   "cell_type": "code",
   "execution_count": 18,
   "metadata": {
    "collapsed": false
   },
   "outputs": [
    {
     "data": {
      "text/html": [
       "<div>\n",
       "<style scoped>\n",
       "    .dataframe tbody tr th:only-of-type {\n",
       "        vertical-align: middle;\n",
       "    }\n",
       "\n",
       "    .dataframe tbody tr th {\n",
       "        vertical-align: top;\n",
       "    }\n",
       "\n",
       "    .dataframe thead th {\n",
       "        text-align: right;\n",
       "    }\n",
       "</style>\n",
       "<table border=\"1\" class=\"dataframe\">\n",
       "  <thead>\n",
       "    <tr style=\"text-align: right;\">\n",
       "      <th></th>\n",
       "      <th>collection</th>\n",
       "      <th>date_added</th>\n",
       "      <th>user.id</th>\n",
       "      <th>user.name</th>\n",
       "    </tr>\n",
       "  </thead>\n",
       "  <tbody>\n",
       "    <tr>\n",
       "      <th>3356</th>\n",
       "      <td>us_election_marcorubio_2016</td>\n",
       "      <td>2016-10-18</td>\n",
       "      <td>15745368</td>\n",
       "      <td>Marco Rubio</td>\n",
       "    </tr>\n",
       "    <tr>\n",
       "      <th>3369</th>\n",
       "      <td>us_election_others_2016</td>\n",
       "      <td>2016-10-18</td>\n",
       "      <td>15745368</td>\n",
       "      <td>Marco Rubio</td>\n",
       "    </tr>\n",
       "    <tr>\n",
       "      <th>3605</th>\n",
       "      <td>us_legislators_2016</td>\n",
       "      <td>2016-10-18</td>\n",
       "      <td>15745368</td>\n",
       "      <td>Marco Rubio</td>\n",
       "    </tr>\n",
       "    <tr>\n",
       "      <th>4180</th>\n",
       "      <td>us_legislators_2017</td>\n",
       "      <td>2017-02-14</td>\n",
       "      <td>15745368</td>\n",
       "      <td>Marco Rubio</td>\n",
       "    </tr>\n",
       "  </tbody>\n",
       "</table>\n",
       "</div>"
      ],
      "text/plain": [
       "                       collection  date_added   user.id    user.name\n",
       "3356  us_election_marcorubio_2016  2016-10-18  15745368  Marco Rubio\n",
       "3369      us_election_others_2016  2016-10-18  15745368  Marco Rubio\n",
       "3605          us_legislators_2016  2016-10-18  15745368  Marco Rubio\n",
       "4180          us_legislators_2017  2017-02-14  15745368  Marco Rubio"
      ]
     },
     "execution_count": 18,
     "metadata": {},
     "output_type": "execute_result"
    }
   ],
   "source": [
    "# regular expression aka wildcard patter\n",
    "df_user[df_user['user.name'].str.contains('marco rubio', case=False)]"
   ]
  },
  {
   "cell_type": "markdown",
   "metadata": {},
   "source": [
    "## Terms"
   ]
  },
  {
   "cell_type": "code",
   "execution_count": 19,
   "metadata": {
    "collapsed": false
   },
   "outputs": [
    {
     "data": {
      "text/html": [
       "<div>\n",
       "<style scoped>\n",
       "    .dataframe tbody tr th:only-of-type {\n",
       "        vertical-align: middle;\n",
       "    }\n",
       "\n",
       "    .dataframe tbody tr th {\n",
       "        vertical-align: top;\n",
       "    }\n",
       "\n",
       "    .dataframe thead th {\n",
       "        text-align: right;\n",
       "    }\n",
       "</style>\n",
       "<table border=\"1\" class=\"dataframe\">\n",
       "  <thead>\n",
       "    <tr style=\"text-align: right;\">\n",
       "      <th></th>\n",
       "      <th>collection</th>\n",
       "      <th>date_added</th>\n",
       "      <th>keyword</th>\n",
       "    </tr>\n",
       "  </thead>\n",
       "  <tbody>\n",
       "    <tr>\n",
       "      <th>0</th>\n",
       "      <td>Jerusalem</td>\n",
       "      <td>2017-12-08</td>\n",
       "      <td>palestine</td>\n",
       "    </tr>\n",
       "    <tr>\n",
       "      <th>1</th>\n",
       "      <td>Jerusalem</td>\n",
       "      <td>2017-12-08</td>\n",
       "      <td>فلسطين</td>\n",
       "    </tr>\n",
       "    <tr>\n",
       "      <th>2</th>\n",
       "      <td>Jerusalem</td>\n",
       "      <td>2017-12-08</td>\n",
       "      <td>القدس</td>\n",
       "    </tr>\n",
       "    <tr>\n",
       "      <th>3</th>\n",
       "      <td>Jerusalem</td>\n",
       "      <td>2017-12-08</td>\n",
       "      <td>jerusalem</td>\n",
       "    </tr>\n",
       "    <tr>\n",
       "      <th>4</th>\n",
       "      <td>arab_events_3_2016</td>\n",
       "      <td>2016-10-18</td>\n",
       "      <td>#خليك_نسر</td>\n",
       "    </tr>\n",
       "    <tr>\n",
       "      <th>5</th>\n",
       "      <td>arab_events_3_2016</td>\n",
       "      <td>2016-10-18</td>\n",
       "      <td>سني</td>\n",
       "    </tr>\n",
       "    <tr>\n",
       "      <th>6</th>\n",
       "      <td>arab_events_3_2016</td>\n",
       "      <td>2016-10-18</td>\n",
       "      <td>الشيعة</td>\n",
       "    </tr>\n",
       "    <tr>\n",
       "      <th>7</th>\n",
       "      <td>arab_events_3_2016</td>\n",
       "      <td>2016-10-18</td>\n",
       "      <td>حزبالله</td>\n",
       "    </tr>\n",
       "    <tr>\n",
       "      <th>8</th>\n",
       "      <td>arab_events_3_2016</td>\n",
       "      <td>2016-10-18</td>\n",
       "      <td>الجهاد</td>\n",
       "    </tr>\n",
       "    <tr>\n",
       "      <th>9</th>\n",
       "      <td>arab_events_3_2016</td>\n",
       "      <td>2016-10-18</td>\n",
       "      <td>القاعدة</td>\n",
       "    </tr>\n",
       "  </tbody>\n",
       "</table>\n",
       "</div>"
      ],
      "text/plain": [
       "           collection  date_added    keyword\n",
       "0           Jerusalem  2017-12-08  palestine\n",
       "1           Jerusalem  2017-12-08     فلسطين\n",
       "2           Jerusalem  2017-12-08      القدس\n",
       "3           Jerusalem  2017-12-08  jerusalem\n",
       "4  arab_events_3_2016  2016-10-18  #خليك_نسر\n",
       "5  arab_events_3_2016  2016-10-18        سني\n",
       "6  arab_events_3_2016  2016-10-18     الشيعة\n",
       "7  arab_events_3_2016  2016-10-18    حزبالله\n",
       "8  arab_events_3_2016  2016-10-18     الجهاد\n",
       "9  arab_events_3_2016  2016-10-18    القاعدة"
      ]
     },
     "execution_count": 19,
     "metadata": {},
     "output_type": "execute_result"
    }
   ],
   "source": [
    "df_term = pd.read_csv(f_term)\n",
    "df_term.head(10)"
   ]
  },
  {
   "cell_type": "code",
   "execution_count": 20,
   "metadata": {
    "collapsed": false
   },
   "outputs": [
    {
     "data": {
      "text/plain": [
       "['أقباط', 'الأردن', 'سقوط', 'لاجئ', 'مجزرة']"
      ]
     },
     "execution_count": 20,
     "metadata": {},
     "output_type": "execute_result"
    }
   ],
   "source": [
    "arab_event_terms = df_term[df_term['collection'] == 'arab_events_3_2016']['keyword'].tolist()\n",
    "arab_event_terms[-5:] # last 5 terms"
   ]
  },
  {
   "cell_type": "markdown",
   "metadata": {},
   "source": [
    "# Looking at The Size of Collections"
   ]
  },
  {
   "cell_type": "code",
   "execution_count": 22,
   "metadata": {
    "collapsed": false
   },
   "outputs": [
    {
     "data": {
      "text/html": [
       "<div>\n",
       "<style scoped>\n",
       "    .dataframe tbody tr th:only-of-type {\n",
       "        vertical-align: middle;\n",
       "    }\n",
       "\n",
       "    .dataframe tbody tr th {\n",
       "        vertical-align: top;\n",
       "    }\n",
       "\n",
       "    .dataframe thead th {\n",
       "        text-align: right;\n",
       "    }\n",
       "</style>\n",
       "<table border=\"1\" class=\"dataframe\">\n",
       "  <thead>\n",
       "    <tr style=\"text-align: right;\">\n",
       "      <th></th>\n",
       "      <th>collection</th>\n",
       "      <th>collection_number_of_files</th>\n",
       "      <th>collection_size</th>\n",
       "      <th>collection_size_bytes</th>\n",
       "      <th>latest_filedate</th>\n",
       "      <th>latest_filename</th>\n",
       "      <th>latest_filesize</th>\n",
       "    </tr>\n",
       "  </thead>\n",
       "  <tbody>\n",
       "    <tr>\n",
       "      <th>0</th>\n",
       "      <td>us_politics_pro_trump</td>\n",
       "      <td>339</td>\n",
       "      <td>47.8 GB</td>\n",
       "      <td>51319712186</td>\n",
       "      <td>2018-01-05 06:37:09</td>\n",
       "      <td>/scratch/olympus/us_politics_pro_trump/data/us...</td>\n",
       "      <td>137.17 MB</td>\n",
       "    </tr>\n",
       "    <tr>\n",
       "      <th>1</th>\n",
       "      <td>us_election_marcorubio_2016</td>\n",
       "      <td>449</td>\n",
       "      <td>17.36 GB</td>\n",
       "      <td>18642360066</td>\n",
       "      <td>2018-01-05 06:37:10</td>\n",
       "      <td>/scratch/olympus/us_election_marcorubio_2016/d...</td>\n",
       "      <td>5.2 MB</td>\n",
       "    </tr>\n",
       "    <tr>\n",
       "      <th>2</th>\n",
       "      <td>turkey_referendum_2017</td>\n",
       "      <td>345</td>\n",
       "      <td>2.88 GB</td>\n",
       "      <td>3095326292</td>\n",
       "      <td>2018-01-05 06:37:10</td>\n",
       "      <td>/scratch/olympus/turkey_referendum_2017/data/t...</td>\n",
       "      <td>80.49 KB</td>\n",
       "    </tr>\n",
       "  </tbody>\n",
       "</table>\n",
       "</div>"
      ],
      "text/plain": [
       "                    collection  collection_number_of_files collection_size  \\\n",
       "0        us_politics_pro_trump                         339         47.8 GB   \n",
       "1  us_election_marcorubio_2016                         449        17.36 GB   \n",
       "2       turkey_referendum_2017                         345         2.88 GB   \n",
       "\n",
       "   collection_size_bytes      latest_filedate  \\\n",
       "0            51319712186  2018-01-05 06:37:09   \n",
       "1            18642360066  2018-01-05 06:37:10   \n",
       "2             3095326292  2018-01-05 06:37:10   \n",
       "\n",
       "                                     latest_filename latest_filesize  \n",
       "0  /scratch/olympus/us_politics_pro_trump/data/us...       137.17 MB  \n",
       "1  /scratch/olympus/us_election_marcorubio_2016/d...          5.2 MB  \n",
       "2  /scratch/olympus/turkey_referendum_2017/data/t...        80.49 KB  "
      ]
     },
     "execution_count": 22,
     "metadata": {},
     "output_type": "execute_result"
    }
   ],
   "source": [
    "df_meta = pd.read_csv(f_meta)\n",
    "df_meta.head(3)"
   ]
  },
  {
   "cell_type": "code",
   "execution_count": 23,
   "metadata": {
    "collapsed": true
   },
   "outputs": [],
   "source": [
    "import math\n",
    "\n",
    "def convert_size(size_bytes):\n",
    "    '''\n",
    "    Bytes to a human-readable format.\n",
    "    '''\n",
    "    if size_bytes == 0:\n",
    "        return \"0B\"\n",
    "    size_name = (\"B\", \"KB\", \"MB\", \"GB\", \"TB\", \"PB\", \"EB\", \"ZB\", \"YB\")\n",
    "    i = int(math.floor(math.log(size_bytes, 1024)))\n",
    "    p = math.pow(1024, i)\n",
    "    s = round(size_bytes / p, 2)\n",
    "\n",
    "    return \"%s %s\" % (s, size_name[i])"
   ]
  },
  {
   "cell_type": "code",
   "execution_count": 24,
   "metadata": {
    "collapsed": false
   },
   "outputs": [
    {
     "data": {
      "text/plain": [
       "4106391005076"
      ]
     },
     "execution_count": 24,
     "metadata": {},
     "output_type": "execute_result"
    }
   ],
   "source": [
    "olympus_btyes = df_meta['collection_size_bytes'].sum()\n",
    "olympus_btyes"
   ]
  },
  {
   "cell_type": "code",
   "execution_count": 25,
   "metadata": {
    "collapsed": false
   },
   "outputs": [
    {
     "data": {
      "text/plain": [
       "'3.73 TB'"
      ]
     },
     "execution_count": 25,
     "metadata": {},
     "output_type": "execute_result"
    }
   ],
   "source": [
    "convert_size(olympus_btyes)"
   ]
  },
  {
   "cell_type": "code",
   "execution_count": 28,
   "metadata": {
    "collapsed": false
   },
   "outputs": [
    {
     "data": {
      "text/plain": [
       "116"
      ]
     },
     "execution_count": 28,
     "metadata": {},
     "output_type": "execute_result"
    }
   ],
   "source": [
    "len(df_meta['collection'].unique())"
   ]
  },
  {
   "cell_type": "code",
   "execution_count": 29,
   "metadata": {
    "collapsed": false
   },
   "outputs": [
    {
     "data": {
      "text/plain": [
       "423205150185"
      ]
     },
     "execution_count": 29,
     "metadata": {},
     "output_type": "execute_result"
    }
   ],
   "source": [
    "# how big is the largest collection?\n",
    "largest_collection_size = df_meta['collection_size_bytes'].max()\n",
    "largest_collection_size"
   ]
  },
  {
   "cell_type": "code",
   "execution_count": 30,
   "metadata": {
    "collapsed": false
   },
   "outputs": [
    {
     "data": {
      "text/html": [
       "<div>\n",
       "<style scoped>\n",
       "    .dataframe tbody tr th:only-of-type {\n",
       "        vertical-align: middle;\n",
       "    }\n",
       "\n",
       "    .dataframe tbody tr th {\n",
       "        vertical-align: top;\n",
       "    }\n",
       "\n",
       "    .dataframe thead th {\n",
       "        text-align: right;\n",
       "    }\n",
       "</style>\n",
       "<table border=\"1\" class=\"dataframe\">\n",
       "  <thead>\n",
       "    <tr style=\"text-align: right;\">\n",
       "      <th></th>\n",
       "      <th>collection</th>\n",
       "      <th>collection_number_of_files</th>\n",
       "      <th>collection_size</th>\n",
       "      <th>collection_size_bytes</th>\n",
       "      <th>latest_filedate</th>\n",
       "      <th>latest_filename</th>\n",
       "      <th>latest_filesize</th>\n",
       "    </tr>\n",
       "  </thead>\n",
       "  <tbody>\n",
       "    <tr>\n",
       "      <th>86</th>\n",
       "      <td>arab_events_3_2016</td>\n",
       "      <td>446</td>\n",
       "      <td>394.14 GB</td>\n",
       "      <td>423205150185</td>\n",
       "      <td>2018-01-05 07:08:49</td>\n",
       "      <td>/scratch/olympus/arab_events_3_2016/data/arab_...</td>\n",
       "      <td>946.52 MB</td>\n",
       "    </tr>\n",
       "  </tbody>\n",
       "</table>\n",
       "</div>"
      ],
      "text/plain": [
       "            collection  collection_number_of_files collection_size  \\\n",
       "86  arab_events_3_2016                         446       394.14 GB   \n",
       "\n",
       "    collection_size_bytes      latest_filedate  \\\n",
       "86           423205150185  2018-01-05 07:08:49   \n",
       "\n",
       "                                      latest_filename latest_filesize  \n",
       "86  /scratch/olympus/arab_events_3_2016/data/arab_...       946.52 MB  "
      ]
     },
     "execution_count": 30,
     "metadata": {},
     "output_type": "execute_result"
    }
   ],
   "source": [
    "# how do we find the largest collection?\n",
    "largest_collection = df_meta[df_meta['collection_size_bytes'] == largest_collection_size]\n",
    "largest_collection"
   ]
  },
  {
   "cell_type": "code",
   "execution_count": 32,
   "metadata": {
    "collapsed": false
   },
   "outputs": [
    {
     "data": {
      "text/plain": [
       "'2018-01-05 07:08:49'"
      ]
     },
     "execution_count": 32,
     "metadata": {},
     "output_type": "execute_result"
    }
   ],
   "source": [
    "# how to get the latest_filedate?\n",
    "largest_collection['latest_filedate'].iloc[0]"
   ]
  },
  {
   "cell_type": "code",
   "execution_count": 36,
   "metadata": {
    "collapsed": false
   },
   "outputs": [
    {
     "data": {
      "text/plain": [
       "'/scratch/olympus/arab_events_3_2016/data/arab_events_3_2016_data__11_24_2017__00_00_00__23_59_59.json.bz2'"
      ]
     },
     "execution_count": 36,
     "metadata": {},
     "output_type": "execute_result"
    }
   ],
   "source": [
    "largest_collection_file = largest_collection['latest_filename'].iloc[0]\n",
    "largest_collection_file"
   ]
  },
  {
   "cell_type": "markdown",
   "metadata": {},
   "source": [
    "## Let's Look at this File"
   ]
  },
  {
   "cell_type": "code",
   "execution_count": 33,
   "metadata": {
    "collapsed": true
   },
   "outputs": [],
   "source": [
    "import json\n",
    "from smappdragon import JsonCollection"
   ]
  },
  {
   "cell_type": "code",
   "execution_count": 34,
   "metadata": {
    "collapsed": true
   },
   "outputs": [],
   "source": [
    "?JsonCollection()"
   ]
  },
  {
   "cell_type": "code",
   "execution_count": 40,
   "metadata": {
    "collapsed": false
   },
   "outputs": [],
   "source": [
    "collect = JsonCollection(largest_collection_file, compression='bz2', throw_error=0, verbose=1)"
   ]
  },
  {
   "cell_type": "code",
   "execution_count": 41,
   "metadata": {
    "collapsed": false
   },
   "outputs": [
    {
     "name": "stdout",
     "output_type": "stream",
     "text": [
      "1699837 rows are ok.\n",
      "1 rows are corrupt.\n"
     ]
    },
    {
     "data": {
      "text/plain": [
       "1699839"
      ]
     },
     "execution_count": 41,
     "metadata": {},
     "output_type": "execute_result"
    }
   ],
   "source": [
    "sum(1 for _ in collect.get_iterator())"
   ]
  },
  {
   "cell_type": "code",
   "execution_count": 41,
   "metadata": {
    "collapsed": false
   },
   "outputs": [
    {
     "name": "stdout",
     "output_type": "stream",
     "text": [
      "{\n",
      "    \"id\": 933923407397257216,\n",
      "    \"smapp_timestamp\": \"Fri Nov 24 00:01:06 +0000 2017\",\n",
      "    \"in_reply_to_screen_name\": null,\n",
      "    \"filter_level\": \"low\",\n",
      "    \"truncated\": false,\n",
      "    \"place\": null,\n",
      "    \"user\": {\n",
      "        \"id\": 327146497,\n",
      "        \"listed_count\": 0,\n",
      "        \"location\": null,\n",
      "        \"profile_background_image_url\": \"http://abs.twimg.com/images/themes/theme1/bg.png\",\n",
      "        \"favourites_count\": 4934,\n",
      "        \"is_translator\": false,\n",
      "        \"profile_image_url\": \"http://pbs.twimg.com/profile_images/813385734497431554/hsc59alj_normal.jpg\",\n",
      "        \"name\": \"GOODLUCK\",\n",
      "        \"statuses_count\": 3370,\n",
      "        \"description\": null,\n",
      "        \"profile_link_color\": \"1DA1F2\",\n",
      "        \"profile_sidebar_fill_color\": \"DDEEF6\",\n",
      "        \"profile_image_url_https\": \"https://pbs.twimg.com/profile_images/813385734497431554/hsc59alj_normal.jpg\",\n",
      "        \"following\": null,\n",
      "        \"utc_offset\": null,\n",
      "        \"profile_background_color\": \"C0DEED\",\n",
      "        \"geo_enabled\": true,\n",
      "        \"profile_background_image_url_https\": \"https://abs.twimg.com/images/themes/theme1/bg.png\",\n",
      "        \"protected\": false,\n",
      "        \"profile_banner_url\": \"https://pbs.twimg.com/profile_banners/327146497/1509851624\",\n",
      "        \"profile_text_color\": \"333333\",\n",
      "        \"default_profile_image\": false,\n",
      "        \"profile_use_background_image\": true,\n",
      "        \"profile_background_tile\": false,\n",
      "        \"translator_type\": \"none\",\n",
      "        \"id_str\": \"327146497\",\n",
      "        \"default_profile\": true,\n",
      "        \"profile_sidebar_border_color\": \"C0DEED\",\n",
      "        \"friends_count\": 91,\n",
      "        \"verified\": false,\n",
      "        \"created_at\": \"Fri Jul 01 02:24:03 +0000 2011\",\n",
      "        \"notifications\": null,\n",
      "        \"url\": null,\n",
      "        \"follow_request_sent\": null,\n",
      "        \"screen_name\": \"Awad71Eman\",\n",
      "        \"contributors_enabled\": false,\n",
      "        \"followers_count\": 69,\n",
      "        \"time_zone\": null,\n",
      "        \"lang\": \"en\"\n",
      "    },\n",
      "    \"created_at\": \"Fri Nov 24 05:01:06 +0000 2017\",\n",
      "    \"favorited\": false,\n",
      "    \"in_reply_to_user_id_str\": null,\n",
      "    \"retweet_count\": 0,\n",
      "    \"in_reply_to_status_id_str\": null,\n",
      "    \"source\": \"<a href=\\\"https://mobile.twitter.com\\\" rel=\\\"nofollow\\\">Twitter Lite</a>\",\n",
      "    \"is_quote_status\": false,\n",
      "    \"quote_count\": 0,\n",
      "    \"favorite_count\": 0,\n",
      "    \"reply_count\": 0,\n",
      "    \"coordinates\": null,\n",
      "    \"id_str\": \"933923407397257216\",\n",
      "    \"contributors\": null,\n",
      "    \"in_reply_to_status_id\": null,\n",
      "    \"geo\": null,\n",
      "    \"text\": \"RT @waha1950: ( \\u0643\\u0627\\u0646 \\u0631\\u0633\\u0648\\u0644\\u064f \\u0627\\u0644\\u0644\\u0647\\u0650 \\u0635\\u0644\\u064e\\u0651\\u0649 \\u0627\\u0644\\u0644\\u0647\\u064f \\u0639\\u0644\\u064a\\u0647 \\u0648\\u0633\\u0644\\u064e\\u0651\\u0645\\u064e \\u064a\\u0635\\u0644\\u0650\\u0651\\u064a \\u0645\\u0646 \\u0627\\u0644\\u0644\\u064a\\u0644\\u0650 . \\u062d\\u062a\\u0649 \\u064a\\u0643\\u0648\\u0646 \\u0622\\u062e\\u0631\\u064e \\u0635\\u0644\\u0627\\u062a\\u0650\\u0647 \\u0627\\u0644\\u0648\\u062a\\u0631\\u064f . ) \\u0635\\u062d\\u064a\\u062d \\u0645\\u0633\\u0644\\u0645\",\n",
      "    \"retweeted_status\": {\n",
      "        \"id\": 933817649024389122,\n",
      "        \"in_reply_to_screen_name\": null,\n",
      "        \"filter_level\": \"low\",\n",
      "        \"truncated\": false,\n",
      "        \"place\": null,\n",
      "        \"user\": {\n",
      "            \"id\": 912990206,\n",
      "            \"listed_count\": 332,\n",
      "            \"location\": null,\n",
      "            \"profile_background_image_url\": \"http://abs.twimg.com/images/themes/theme8/bg.gif\",\n",
      "            \"favourites_count\": 523,\n",
      "            \"is_translator\": false,\n",
      "            \"profile_image_url\": \"http://pbs.twimg.com/profile_images/525055611579269121/tPOwSmd9_normal.png\",\n",
      "            \"name\": \"\\u0623\\u0647\\u0644\\u064f \\u0627\\u0644\\u0630\\u0650\\u0643\\u0652\\u0631\",\n",
      "            \"statuses_count\": 86955,\n",
      "            \"description\": \"\\u200f\\u200f\\u0623\\u0647\\u0645 \\u0623\\u0630\\u0643\\u0627\\u0631 \\u0627\\u0644\\u0645\\u0633\\u0644\\u0645 \\u0627\\u0644\\u064a\\u0648\\u0645\\u064a\\u0629 \\u0645\\u0646 \\u0635\\u062d\\u064a\\u062d \\u0627\\u0644\\u0633\\u0646\\u0629 \\u0627\\u0644\\u0646\\u0628\\u0648\\u064a\\u0629 \\n\\n... \\n\\u062d\\u0633\\u0627\\u0628 \\u0627\\u0644\\u0623\\u062f\\u0639\\u064a\\u0629 \\u0645\\u0646 \\u0627\\u0644\\u0642\\u0631\\u0622\\u0646 \\u0648\\u0627\\u0644\\u0633\\u0646\\u0629   \\u200e@s141s1\",\n",
      "            \"profile_link_color\": \"9D582E\",\n",
      "            \"profile_sidebar_fill_color\": \"EADEAA\",\n",
      "            \"profile_image_url_https\": \"https://pbs.twimg.com/profile_images/525055611579269121/tPOwSmd9_normal.png\",\n",
      "            \"following\": null,\n",
      "            \"utc_offset\": 10800,\n",
      "            \"profile_background_color\": \"8B542B\",\n",
      "            \"geo_enabled\": false,\n",
      "            \"profile_background_image_url_https\": \"https://abs.twimg.com/images/themes/theme8/bg.gif\",\n",
      "            \"protected\": false,\n",
      "            \"profile_banner_url\": \"https://pbs.twimg.com/profile_banners/912990206/1444466664\",\n",
      "            \"profile_text_color\": \"333333\",\n",
      "            \"default_profile_image\": false,\n",
      "            \"profile_use_background_image\": true,\n",
      "            \"profile_background_tile\": false,\n",
      "            \"translator_type\": \"none\",\n",
      "            \"id_str\": \"912990206\",\n",
      "            \"default_profile\": false,\n",
      "            \"profile_sidebar_border_color\": \"D9B17E\",\n",
      "            \"friends_count\": 2,\n",
      "            \"verified\": false,\n",
      "            \"created_at\": \"Mon Oct 29 18:34:22 +0000 2012\",\n",
      "            \"notifications\": null,\n",
      "            \"url\": null,\n",
      "            \"follow_request_sent\": null,\n",
      "            \"screen_name\": \"waha1950\",\n",
      "            \"contributors_enabled\": false,\n",
      "            \"followers_count\": 229192,\n",
      "            \"time_zone\": \"Riyadh\",\n",
      "            \"lang\": \"ar\"\n",
      "        },\n",
      "        \"created_at\": \"Thu Nov 23 22:00:51 +0000 2017\",\n",
      "        \"favorited\": false,\n",
      "        \"in_reply_to_user_id_str\": null,\n",
      "        \"retweet_count\": 63,\n",
      "        \"in_reply_to_status_id_str\": null,\n",
      "        \"source\": \"<a href=\\\"https://ifttt.com\\\" rel=\\\"nofollow\\\">IFTTT</a>\",\n",
      "        \"is_quote_status\": false,\n",
      "        \"quote_count\": 0,\n",
      "        \"favorite_count\": 35,\n",
      "        \"reply_count\": 0,\n",
      "        \"coordinates\": null,\n",
      "        \"id_str\": \"933817649024389122\",\n",
      "        \"contributors\": null,\n",
      "        \"in_reply_to_status_id\": null,\n",
      "        \"geo\": null,\n",
      "        \"text\": \"( \\u0643\\u0627\\u0646 \\u0631\\u0633\\u0648\\u0644\\u064f \\u0627\\u0644\\u0644\\u0647\\u0650 \\u0635\\u0644\\u064e\\u0651\\u0649 \\u0627\\u0644\\u0644\\u0647\\u064f \\u0639\\u0644\\u064a\\u0647 \\u0648\\u0633\\u0644\\u064e\\u0651\\u0645\\u064e \\u064a\\u0635\\u0644\\u0650\\u0651\\u064a \\u0645\\u0646 \\u0627\\u0644\\u0644\\u064a\\u0644\\u0650 . \\u062d\\u062a\\u0649 \\u064a\\u0643\\u0648\\u0646 \\u0622\\u062e\\u0631\\u064e \\u0635\\u0644\\u0627\\u062a\\u0650\\u0647 \\u0627\\u0644\\u0648\\u062a\\u0631\\u064f . ) \\u0635\\u062d\\u064a\\u062d \\u0645\\u0633\\u0644\\u0645\",\n",
      "        \"lang\": \"ar\",\n",
      "        \"retweeted\": false,\n",
      "        \"entities\": {\n",
      "            \"hashtags\": [],\n",
      "            \"user_mentions\": [],\n",
      "            \"symbols\": [],\n",
      "            \"urls\": []\n",
      "        },\n",
      "        \"in_reply_to_user_id\": null\n",
      "    },\n",
      "    \"retweeted\": false,\n",
      "    \"timestamp_ms\": \"1511499666438\",\n",
      "    \"entities\": {\n",
      "        \"hashtags\": [],\n",
      "        \"user_mentions\": [\n",
      "            {\n",
      "                \"id_str\": \"912990206\",\n",
      "                \"id\": 912990206,\n",
      "                \"name\": \"\\u0623\\u0647\\u0644\\u064f \\u0627\\u0644\\u0630\\u0650\\u0643\\u0652\\u0631\",\n",
      "                \"screen_name\": \"waha1950\",\n",
      "                \"indices\": [\n",
      "                    3,\n",
      "                    12\n",
      "                ]\n",
      "            }\n",
      "        ],\n",
      "        \"symbols\": [],\n",
      "        \"urls\": []\n",
      "    },\n",
      "    \"in_reply_to_user_id\": null,\n",
      "    \"lang\": \"ar\"\n",
      "}\n"
     ]
    }
   ],
   "source": [
    "for i, tweet in enumerate(collect.get_iterator()):\n",
    "    if i == 0:\n",
    "        print(json.dumps(tweet, indent=4))\n",
    "    else:\n",
    "        break"
   ]
  },
  {
   "cell_type": "code",
   "execution_count": 53,
   "metadata": {
    "collapsed": true
   },
   "outputs": [],
   "source": [
    "def is_getlocated(tweet):\n",
    "    if isinstance(tweet, dict) and tweet['coordinates']:\n",
    "        return True\n",
    "    return False"
   ]
  },
  {
   "cell_type": "code",
   "execution_count": 54,
   "metadata": {
    "collapsed": false
   },
   "outputs": [],
   "source": [
    "geo_collect = collect.set_custom_filter(is_getlocated)"
   ]
  },
  {
   "cell_type": "code",
   "execution_count": null,
   "metadata": {
    "collapsed": true
   },
   "outputs": [],
   "source": []
  }
 ],
 "metadata": {
  "kernelspec": {
   "display_name": "Python 3",
   "language": "python",
   "name": "python3"
  },
  "language_info": {
   "codemirror_mode": {
    "name": "ipython",
    "version": 3
   },
   "file_extension": ".py",
   "mimetype": "text/x-python",
   "name": "python",
   "nbconvert_exporter": "python",
   "pygments_lexer": "ipython3",
   "version": "3.6.1"
  }
 },
 "nbformat": 4,
 "nbformat_minor": 2
}
