{
 "cells": [
  {
   "cell_type": "markdown",
   "metadata": {
    "deletable": true,
    "editable": true
   },
   "source": [
    "# Downloading files from Olympus Mount\n",
    "\n",
    "Most of our current collections are stored in `/scratch/olympus/` as bzipped (.bz2) json files.<br>\n",
    "To make a collection useful, we need to uncompress the files, and dust any corrupt records.\n",
    "\n",
    "This is something we don't want to do where files are stored.<br>\n",
    "So, we're going to copy the collection into our personal scratch space -- `/scratch/`$`USER`,<br> \n",
    "which has 5TBs of storage, and can be messed up however you want!\n",
    "<hr>\n",
    "### A few words before we start\n",
    "This is a Jupyter notebook. It contains html markdown (this current cell), as well as Python code.<br>\n",
    "I highly recommend making a copy of the .ipynb file, and renaming it!<br>\n",
    "To follow along, you can run each cell using (shift + enter).\n",
    "\n",
    "To use this Jupyter notebook, you should be on a CPU node on NYU HPC's [Prince Cluster](https://wikis.nyu.edu/display/NYUHPC/Getting+started+on+Prince).<br>\n",
    "Use the following [sbatch](https://wikis.nyu.edu/display/NYUHPC/Slurm+Tutorial) [script](https://github.com/SMAPPNYU/smapputil/blob/master/sbatch/cpu-jupyter.sbatch) to connect to a CPU node on Prince.\n",
    "\n",
    "Scratch is a temporary space. Make sure any transformations and analysis outside this notebook are reproducible.\n",
    "\n",
    "Author @yinleon\n",
    "\n",
    "<hr>\n",
    "The following cell contains the packages we're going to use. <br>\n",
    "Importing packages are typically the first code cell of a notebook.\n",
    "\n",
    "the first 7 packages are standard Python packages, [smappdragon](https://github.com/SMAPPNYU/smappdragon) is not. <br>\n",
    "Third party packages power the Python ecosystem but need to be [explicitly downloaded](https://github.com/SMAPPNYU/smappdragon#installation)."
   ]
  },
  {
   "cell_type": "code",
   "execution_count": 1,
   "metadata": {
    "collapsed": true,
    "deletable": true,
    "editable": true
   },
   "outputs": [],
   "source": [
    "import os\n",
    "import glob\n",
    "from itertools import repeat\n",
    "from shutil import copyfile\n",
    "from subprocess import Popen, PIPE\n",
    "from multiprocessing import Pool\n",
    "from time import sleep\n",
    "\n",
    "from smappdragon.tools.tweet_cleaner import clean_tweets"
   ]
  },
  {
   "cell_type": "markdown",
   "metadata": {
    "deletable": true,
    "editable": true
   },
   "source": [
    "What collections exist on scratch?<br>\n",
    "Jupyter Notebooks can execute [magic commands](https://ipython.org/ipython-doc/3/interactive/magics.html), using the `%` symbol."
   ]
  },
  {
   "cell_type": "code",
   "execution_count": 2,
   "metadata": {
    "collapsed": false,
    "deletable": true,
    "editable": true,
    "scrolled": true
   },
   "outputs": [
    {
     "name": "stdout",
     "output_type": "stream",
     "text": [
      "\u001b[0m\u001b[38;5;27m47_traitors\u001b[0m/\r\n",
      "\u001b[38;5;27marab_events_2\u001b[0m/\r\n",
      "\u001b[38;5;27marab_events_3_2016\u001b[0m/\r\n",
      "\u001b[38;5;27margentina_politicians\u001b[0m/\r\n",
      "\u001b[38;5;27mattack_on_mcfaul\u001b[0m/\r\n",
      "\u001b[38;5;27mbrexit_2015\u001b[0m/\r\n",
      "\u001b[38;5;27mbrexit_2016\u001b[0m/\r\n",
      "\u001b[38;5;27mbritain_broadcast_journalists\u001b[0m/\r\n",
      "\u001b[38;5;27mbritain_broadcast_journalists_2016\u001b[0m/\r\n",
      "\u001b[38;5;27mbritain_election_2015\u001b[0m/\r\n",
      "\u001b[38;5;27mbritain_election_2016\u001b[0m/\r\n",
      "\u001b[38;5;27mbritain_isis\u001b[0m/\r\n",
      "\u001b[38;5;27mbritain_national_journalists\u001b[0m/\r\n",
      "\u001b[38;5;27mbritain_national_journalists_2016\u001b[0m/\r\n",
      "\u001b[38;5;27mbritain_parties\u001b[0m/\r\n"
     ]
    }
   ],
   "source": [
    "%ls /scratch/olympus | head -15"
   ]
  },
  {
   "cell_type": "markdown",
   "metadata": {
    "deletable": true,
    "editable": true
   },
   "source": [
    "from the above, which collection do you want on your `/scratch/`$`USER` space?"
   ]
  },
  {
   "cell_type": "code",
   "execution_count": 3,
   "metadata": {
    "collapsed": true,
    "deletable": true,
    "editable": true
   },
   "outputs": [],
   "source": [
    "# change this! Afterwards click: Cell -> Run All... if ydgaf!\n",
    "collection_name = 'brexit_2016'"
   ]
  },
  {
   "cell_type": "markdown",
   "metadata": {
    "deletable": true,
    "editable": true
   },
   "source": [
    "after packages, global variables are declared...<br>\n",
    "below are the variables we'll be using, which will be generated dynamically based on `collection_name`, <br>\n",
    "and the `$`USER environment variable stored on your Prince account."
   ]
  },
  {
   "cell_type": "code",
   "execution_count": 4,
   "metadata": {
    "collapsed": false,
    "deletable": true,
    "editable": true
   },
   "outputs": [],
   "source": [
    "netid = os.environ.get('USER')\n",
    "olympus_tweets = '/scratch/olympus/{}/data'.format(collection_name)\n",
    "olympus_local = '/scratch/{}/olympus_local/'.format(netid)\n",
    "collection_local = olympus_local + collection_name\n",
    "\n",
    "if not os.path.exists(olympus_tweets):\n",
    "    print(\"the collection: {} does not exist\".format(olympus_tweets))"
   ]
  },
  {
   "cell_type": "code",
   "execution_count": 5,
   "metadata": {
    "collapsed": false,
    "deletable": true,
    "editable": true
   },
   "outputs": [
    {
     "name": "stdout",
     "output_type": "stream",
     "text": [
      "files will be stored here: /scratch/ly501/olympus_local/brexit_2016\n"
     ]
    }
   ],
   "source": [
    "print(\"files will be stored here: {}\".format(collection_local))"
   ]
  },
  {
   "cell_type": "markdown",
   "metadata": {
    "deletable": true,
    "editable": true
   },
   "source": [
    "Let's make the directories where data will go..."
   ]
  },
  {
   "cell_type": "code",
   "execution_count": 6,
   "metadata": {
    "collapsed": true,
    "deletable": true,
    "editable": true
   },
   "outputs": [],
   "source": [
    "if not os.path.exists(olympus_local):\n",
    "    os.makedirs(olympus_local)\n",
    "if not os.path.exists(collection_local):\n",
    "    os.makedirs(collection_local)"
   ]
  },
  {
   "cell_type": "markdown",
   "metadata": {
    "deletable": true,
    "editable": true
   },
   "source": [
    "## Functions\n",
    "Because each file from Olympus will undergo the same operations, we can make our workflow modular.<br>\n",
    "In Python, functions are declared using the `def some_function(arg_1, arg_2)` format."
   ]
  },
  {
   "cell_type": "code",
   "execution_count": 7,
   "metadata": {
    "collapsed": false,
    "deletable": true,
    "editable": true
   },
   "outputs": [],
   "source": [
    "def add_1(number):\n",
    "    '''\n",
    "    An example of a function that adds 1 to the input (number)\n",
    "    '''\n",
    "    return number + 1"
   ]
  },
  {
   "cell_type": "markdown",
   "metadata": {
    "deletable": true,
    "editable": true
   },
   "source": [
    "functions are called as follows:"
   ]
  },
  {
   "cell_type": "code",
   "execution_count": 8,
   "metadata": {
    "collapsed": false,
    "deletable": true,
    "editable": true
   },
   "outputs": [
    {
     "data": {
      "text/plain": [
       "3"
      ]
     },
     "execution_count": 8,
     "metadata": {},
     "output_type": "execute_result"
    }
   ],
   "source": [
    "add_1(2)"
   ]
  },
  {
   "cell_type": "markdown",
   "metadata": {
    "deletable": true,
    "editable": true
   },
   "source": [
    "### Copy files into your workspace\n",
    "We'll be copying files into `olympus_local` (/scratch/$USER/<collection_name>)<br>\n",
    "Using the `copyfile()` function from the [shutil](https://docs.python.org/3/library/shutil.html#shutil.copyfile) module.<br>\n",
    "We can read the docs for a function using a well-placed question mark, and running the cell."
   ]
  },
  {
   "cell_type": "code",
   "execution_count": 9,
   "metadata": {
    "collapsed": true,
    "deletable": true,
    "editable": true
   },
   "outputs": [],
   "source": [
    "?copyfile()     "
   ]
  },
  {
   "cell_type": "markdown",
   "metadata": {
    "deletable": true,
    "editable": true
   },
   "source": [
    "We see that this function takes a input (src) and an output (dst) -- where the file is to be copied from, and where it is to be copied to."
   ]
  },
  {
   "cell_type": "markdown",
   "metadata": {
    "deletable": true,
    "editable": true
   },
   "source": [
    "### Unzip the archive\n",
    "To uncompress a file, we can use the commandline function `bunzip2`.<br>\n",
    "We can call commandline functions in Python using Subprocess' [Popen()](https://docs.python.org/3/library/subprocess.html#popen-constructor) function.\n",
    "\n",
    "This might take a while...\n",
    "but there are ways to be clever about this, as you'll soon see.\n",
    "\n",
    "Save this function if you want to reuse it."
   ]
  },
  {
   "cell_type": "code",
   "execution_count": 10,
   "metadata": {
    "collapsed": true,
    "deletable": true,
    "editable": true
   },
   "outputs": [],
   "source": [
    "def bunzip(f):\n",
    "    '''\n",
    "    Unzip a file!\n",
    "    Uses the Process open (Popen) to access the commandline.\n",
    "    '''\n",
    "    process = Popen(['/usr/bin/bunzip2', f], \n",
    "                    stdout=PIPE, stderr=PIPE)"
   ]
  },
  {
   "cell_type": "markdown",
   "metadata": {
    "deletable": true,
    "editable": true
   },
   "source": [
    "### Clean the tweets\n",
    "Sometimes tweet files contain corrupt patches.<br>\n",
    "This function uses a tool from [smappdragon](https://github.com/SMAPPNYU/smappdragon/blob/master/smappdragon/tools/tweet_cleaner.py#L7-L18) to isolate bad json blobs."
   ]
  },
  {
   "cell_type": "code",
   "execution_count": 11,
   "metadata": {
    "collapsed": true,
    "deletable": true,
    "editable": true
   },
   "outputs": [],
   "source": [
    "def clean_file(f):\n",
    "    '''\n",
    "    Cleans a tweet.\n",
    "    JSON blobs that are corrupt will be written to a new file (dirty).\n",
    "    Functioning JSON blobs are written to (clean), and ultimately replace\n",
    "    the OG file.\n",
    "    \n",
    "    If there are no corrupt tweets in dirty, it will be wiped.\n",
    "    '''\n",
    "    clean = f + '.clean_temp'\n",
    "    dirty = f + '.dirty'\n",
    "\n",
    "    clean_tweets(f, clean, dirty)\n",
    "    \n",
    "    os.remove(f)\n",
    "    os.rename(clean, f)\n",
    "    \n",
    "    if os.stat(dirty).st_size == 0:\n",
    "        os.remove(dirty)"
   ]
  },
  {
   "cell_type": "markdown",
   "metadata": {
    "deletable": true,
    "editable": true
   },
   "source": [
    "### Let's bring it together\n",
    "Bootstrap is used to create the file paths for files in `/scratch/`$`USER`, and <br>\n",
    "`copy_unzip_clean()` brings the above three functions together sequentially."
   ]
  },
  {
   "cell_type": "code",
   "execution_count": 12,
   "metadata": {
    "collapsed": true,
    "deletable": true,
    "editable": true
   },
   "outputs": [],
   "source": [
    "def bootstrap(f, collection_name):\n",
    "    '''\n",
    "    Get the local file path for compressed and uncompressed tweet.\n",
    "    '''\n",
    "    f_name = f.split('/')[-1]\n",
    "    f_compressed = os.path.join(collection_name, f_name)\n",
    "    f_uncompressed = f_compressed.replace('.bz2', '')\n",
    "    \n",
    "    return f_compressed, f_uncompressed"
   ]
  },
  {
   "cell_type": "code",
   "execution_count": 13,
   "metadata": {
    "collapsed": false,
    "deletable": true,
    "editable": true
   },
   "outputs": [],
   "source": [
    "def copy_unzip_clean(f, collection_name):\n",
    "    '''\n",
    "    Bring together the four functions above.\n",
    "    '''\n",
    "    f_c, f_u = bootstrap(f, collection_name)\n",
    "\n",
    "    if os.path.isfile(f_u):\n",
    "        # file already processed, so exit.\n",
    "        return\n",
    "    \n",
    "    copyfile(f, f_c)\n",
    "    bunzip(f_c)\n",
    "    while os.path.isfile(f_c):\n",
    "        sleep(1)\n",
    "    clean_file(f_u)"
   ]
  },
  {
   "cell_type": "markdown",
   "metadata": {
    "deletable": true,
    "editable": true
   },
   "source": [
    "Let's use these functions!"
   ]
  },
  {
   "cell_type": "markdown",
   "metadata": {
    "deletable": true,
    "editable": true
   },
   "source": [
    "## Implementation\n",
    "Here we will get all the bzipped files in the collection as input arguments for `copy_unzip_clean()`.<br>\n",
    "For background, `glob.glob(some_pattern_input)` performs a [RegEx](https://en.wikipedia.org/wiki/Regular_expression) search, and retuns a list file paths that match the pattern.<br>\n",
    "\n",
    "`Pool(N)` allows us to run the same procedure for **N** files on **N** CPUs.<br>\n",
    "In this particular implementation, we run the `copy_unzip_clean()` on 4 files at the same time!"
   ]
  },
  {
   "cell_type": "code",
   "execution_count": 14,
   "metadata": {
    "collapsed": false,
    "deletable": true,
    "editable": true
   },
   "outputs": [],
   "source": [
    "files = glob.glob(os.path.join(olympus_tweets, '*.bz2'))[4:8]\n",
    "args = zip(files, repeat(collection_local))"
   ]
  },
  {
   "cell_type": "code",
   "execution_count": 15,
   "metadata": {
    "collapsed": false,
    "deletable": true,
    "editable": true,
    "scrolled": true
   },
   "outputs": [],
   "source": [
    "with Pool(4) as pool:\n",
    "    '''\n",
    "    This is the parallelized version of the following:\n",
    "    \n",
    "    for f in files:\n",
    "        copy_unzip_clean(f, collection_local)\n",
    "    \n",
    "    Pool(4), means we're using 4 cpus!\n",
    "    \n",
    "    pool.starmap() allows us to apply a function to all 4 CPUs in the Pool \n",
    "    using all the inputs from args.\n",
    "    \n",
    "    starmap (as opposed to map) allows functions that take two or more inputs, \n",
    "    in this case, the olympus file name, and the destination directory.\n",
    "    '''\n",
    "    pool.starmap(copy_unzip_clean, args)"
   ]
  },
  {
   "cell_type": "markdown",
   "metadata": {
    "deletable": true,
    "editable": true
   },
   "source": [
    "Which files contained a subset of corrupt JSON?"
   ]
  },
  {
   "cell_type": "code",
   "execution_count": 17,
   "metadata": {
    "collapsed": false,
    "deletable": true,
    "editable": true
   },
   "outputs": [
    {
     "data": {
      "text/plain": [
       "[]"
      ]
     },
     "execution_count": 17,
     "metadata": {},
     "output_type": "execute_result"
    }
   ],
   "source": [
    "glob.glob(os.path.join(collection_local, '*.json_dirty'))"
   ]
  },
  {
   "cell_type": "markdown",
   "metadata": {
    "deletable": true,
    "editable": true
   },
   "source": [
    "# Conclusion\n",
    "Within this notebook, you saw some tricks and best practices.<br>\n",
    "Aside from using this environment to develop new ideas and explore data, notebooks encourage reproducibility.\n",
    "\n",
    "\n",
    "Notebooks can also be transitioned to a .py script with ease...<br>\n",
    "This notebook exists as a script [here](https://github.com/SMAPPNYU/smapputil/blob/master/py/olympus_2_scratch/olympus2scratch.py), and can be implemented as folows:\n",
    "\n",
    "```python olympus2scratch.py -c <collection_name> -n <number_of_cpus>```\n",
    "\n",
    "This is great if you want to transport a large collection in a [sbatch](https://wikis.nyu.edu/display/NYUHPC/Slurm+Tutorial) job!<br>\n",
    "_You can let it run for hours in the background, and scale up the cpus_\n",
    "\n",
    "Now that you have data in `/scratch/`$`USER/`, do some analysis!\n",
    "\n",
    "Do you want to learn more about data wrangling, visualization, or machine learning?<br>\n",
    "There are plans in the works to accomodate this.<br>\n",
    "Please send requests though the Google group, email, or in person :)\n",
    "\n",
    "### Some other cool things:\n",
    "We can switch Python versions in a Jupyter Notebook, by adding new Kernels.<br>\n",
    "We can also add an [R-Kernel](https://irkernel.github.io/), which is pretty rad!"
   ]
  }
 ],
 "metadata": {
  "kernelspec": {
   "display_name": "Python 3",
   "language": "python",
   "name": "python3"
  },
  "language_info": {
   "codemirror_mode": {
    "name": "ipython",
    "version": 3
   },
   "file_extension": ".py",
   "mimetype": "text/x-python",
   "name": "python",
   "nbconvert_exporter": "python",
   "pygments_lexer": "ipython3",
   "version": "3.6.1"
  }
 },
 "nbformat": 4,
 "nbformat_minor": 2
}
